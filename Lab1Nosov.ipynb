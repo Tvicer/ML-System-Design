{
 "cells": [
  {
   "cell_type": "markdown",
   "metadata": {},
   "source": [
    "# 100 numpy exercises\n",
    "\n",
    "This is a collection of exercises that have been collected in the numpy mailing list, on stack overflow\n",
    "and in the numpy documentation. The goal of this collection is to offer a quick reference for both old\n",
    "and new users but also to provide a set of exercises for those who teach.\n",
    "\n",
    "\n",
    "If you find an error or think you've a better way to solve some of them, feel\n",
    "free to open an issue at <https://github.com/rougier/numpy-100>."
   ]
  },
  {
   "cell_type": "markdown",
   "metadata": {},
   "source": [
    "File automatically generated. See the documentation to update questions/answers/hints programmatically."
   ]
  },
  {
   "cell_type": "markdown",
   "metadata": {},
   "source": [
    "Run the `initialize.py` module, then for each question you can query the\n",
    "answer or an hint with `hint(n)` or `answer(n)` for `n` question number."
   ]
  },
  {
   "cell_type": "code",
   "execution_count": null,
   "metadata": {},
   "outputs": [],
   "source": [
    "%run initialise.py"
   ]
  },
  {
   "cell_type": "markdown",
   "metadata": {},
   "source": [
    "#### 1. Import the numpy package under the name `np` (★☆☆)"
   ]
  },
  {
   "cell_type": "code",
   "execution_count": 1,
   "metadata": {
    "tags": []
   },
   "outputs": [],
   "source": [
    "import numpy as np"
   ]
  },
  {
   "cell_type": "markdown",
   "metadata": {},
   "source": [
    "#### 2. Print the numpy version and the configuration (★☆☆)"
   ]
  },
  {
   "cell_type": "code",
   "execution_count": 2,
   "metadata": {
    "tags": []
   },
   "outputs": [
    {
     "name": "stdout",
     "output_type": "stream",
     "text": [
      "1.19.1\n",
      "blas_mkl_info:\n",
      "  NOT AVAILABLE\n",
      "blis_info:\n",
      "  NOT AVAILABLE\n",
      "openblas_info:\n",
      "  NOT AVAILABLE\n",
      "atlas_3_10_blas_threads_info:\n",
      "  NOT AVAILABLE\n",
      "atlas_3_10_blas_info:\n",
      "  NOT AVAILABLE\n",
      "atlas_blas_threads_info:\n",
      "  NOT AVAILABLE\n",
      "atlas_blas_info:\n",
      "  NOT AVAILABLE\n",
      "accelerate_info:\n",
      "  NOT AVAILABLE\n",
      "blas_info:\n",
      "    libraries = ['openblas.dll', 'blas']\n",
      "    library_dirs = ['/opt/sagemath-9.2/local/lib', '/usr/lib']\n",
      "    include_dirs = ['/usr/include', '/opt/sagemath-9.2/local/include']\n",
      "    language = c\n",
      "    define_macros = [('HAVE_CBLAS', None)]\n",
      "blas_opt_info:\n",
      "    define_macros = [('NO_ATLAS_INFO', 1), ('HAVE_CBLAS', None)]\n",
      "    libraries = ['openblas.dll', 'blas']\n",
      "    library_dirs = ['/opt/sagemath-9.2/local/lib', '/usr/lib']\n",
      "    include_dirs = ['/usr/include', '/opt/sagemath-9.2/local/include']\n",
      "    language = c\n",
      "lapack_mkl_info:\n",
      "  NOT AVAILABLE\n",
      "openblas_lapack_info:\n",
      "  NOT AVAILABLE\n",
      "openblas_clapack_info:\n",
      "  NOT AVAILABLE\n",
      "flame_info:\n",
      "  NOT AVAILABLE\n",
      "atlas_3_10_threads_info:\n",
      "  NOT AVAILABLE\n",
      "atlas_3_10_info:\n",
      "  NOT AVAILABLE\n",
      "atlas_threads_info:\n",
      "  NOT AVAILABLE\n",
      "atlas_info:\n",
      "  NOT AVAILABLE\n",
      "lapack_info:\n",
      "    libraries = ['openblas.dll', 'lapack']\n",
      "    library_dirs = ['/opt/sagemath-9.2/local/lib', '/usr/lib']\n",
      "    language = f77\n",
      "lapack_opt_info:\n",
      "    libraries = ['openblas.dll', 'lapack', 'openblas.dll', 'blas']\n",
      "    library_dirs = ['/opt/sagemath-9.2/local/lib', '/usr/lib']\n",
      "    language = c\n",
      "    define_macros = [('NO_ATLAS_INFO', 1), ('HAVE_CBLAS', None)]\n",
      "    include_dirs = ['/usr/include', '/opt/sagemath-9.2/local/include']\n"
     ]
    }
   ],
   "source": [
    "print(np.__version__)\n",
    "np.show_config()"
   ]
  },
  {
   "cell_type": "markdown",
   "metadata": {},
   "source": [
    "#### 3. Create a null vector of size 10 (★☆☆)"
   ]
  },
  {
   "cell_type": "code",
   "execution_count": 3,
   "metadata": {
    "tags": []
   },
   "outputs": [
    {
     "name": "stdout",
     "output_type": "stream",
     "text": [
      "[0. 0. 0. 0. 0. 0. 0. 0. 0. 0.]\n"
     ]
    }
   ],
   "source": [
    "vector = np.zeros(10)\n",
    "print(vector)"
   ]
  },
  {
   "cell_type": "markdown",
   "metadata": {},
   "source": [
    "#### 4. How to find the memory size of any array (★☆☆)"
   ]
  },
  {
   "cell_type": "code",
   "execution_count": 6,
   "metadata": {
    "tags": []
   },
   "outputs": [
    {
     "name": "stdout",
     "output_type": "stream",
     "text": [
      "30000 bytes\n"
     ]
    }
   ],
   "source": [
    "vector = np.zeros((50,75))\n",
    "print(f\"{(vector.size * vector.itemsize)} bytes\" )"
   ]
  },
  {
   "cell_type": "markdown",
   "metadata": {},
   "source": [
    "#### 5. How to get the documentation of the numpy add function from the command line? (★☆☆)"
   ]
  },
  {
   "cell_type": "code",
   "execution_count": 7,
   "metadata": {
    "tags": []
   },
   "outputs": [
    {
     "name": "stdout",
     "output_type": "stream",
     "text": [
      "add(x1, x2, /, out=None, *, where=True, casting='same_kind', order='K', dtype=None, subok=True[, signature, extobj])\n",
      "\n",
      "Add arguments element-wise.\n",
      "\n",
      "Parameters\n",
      "----------\n",
      "x1, x2 : array_like\n",
      "    The arrays to be added.\n",
      "    If ``x1.shape != x2.shape``, they must be broadcastable to a common\n",
      "    shape (which becomes the shape of the output).\n",
      "out : ndarray, None, or tuple of ndarray and None, optional\n",
      "    A location into which the result is stored. If provided, it must have\n",
      "    a shape that the inputs broadcast to. If not provided or None,\n",
      "    a freshly-allocated array is returned. A tuple (possible only as a\n",
      "    keyword argument) must have length equal to the number of outputs.\n",
      "where : array_like, optional\n",
      "    This condition is broadcast over the input. At locations where the\n",
      "    condition is True, the `out` array will be set to the ufunc result.\n",
      "    Elsewhere, the `out` array will retain its original value.\n",
      "    Note that if an uninitialized `out` array is created via the default\n",
      "    ``out=None``, locations within it where the condition is False will\n",
      "    remain uninitialized.\n",
      "**kwargs\n",
      "    For other keyword-only arguments, see the\n",
      "    :ref:`ufunc docs <ufuncs.kwargs>`.\n",
      "\n",
      "Returns\n",
      "-------\n",
      "add : ndarray or scalar\n",
      "    The sum of `x1` and `x2`, element-wise.\n",
      "    This is a scalar if both `x1` and `x2` are scalars.\n",
      "\n",
      "Notes\n",
      "-----\n",
      "Equivalent to `x1` + `x2` in terms of array broadcasting.\n",
      "\n",
      "Examples\n",
      "--------\n",
      ">>> np.add(1.0, 4.0)\n",
      "5.0\n",
      ">>> x1 = np.arange(9.0).reshape((3, 3))\n",
      ">>> x2 = np.arange(3.0)\n",
      ">>> np.add(x1, x2)\n",
      "array([[  0.,   2.,   4.],\n",
      "       [  3.,   5.,   7.],\n",
      "       [  6.,   8.,  10.]])\n"
     ]
    }
   ],
   "source": [
    "np.info(np.add) #python -c \"import numpy as np; np.info(np.add)\""
   ]
  },
  {
   "cell_type": "markdown",
   "metadata": {},
   "source": [
    "#### 6. Create a null vector of size 10 but the fifth value which is 1 (★☆☆)"
   ]
  },
  {
   "cell_type": "code",
   "execution_count": 8,
   "metadata": {
    "tags": []
   },
   "outputs": [
    {
     "name": "stdout",
     "output_type": "stream",
     "text": [
      "[0. 0. 0. 0. 1. 0. 0. 0. 0. 0.]\n"
     ]
    }
   ],
   "source": [
    "vector = np.zeros(10)\n",
    "vector[4] = 1\n",
    "print(vector)"
   ]
  },
  {
   "cell_type": "markdown",
   "metadata": {},
   "source": [
    "#### 7. Create a vector with values ranging from 10 to 49 (★☆☆)"
   ]
  },
  {
   "cell_type": "code",
   "execution_count": 9,
   "metadata": {
    "tags": []
   },
   "outputs": [
    {
     "name": "stdout",
     "output_type": "stream",
     "text": [
      "[10 11 12 13 14 15 16 17 18 19 20 21 22 23 24 25 26 27 28 29 30 31 32 33\n",
      " 34 35 36 37 38 39 40 41 42 43 44 45 46 47 48 49]\n"
     ]
    }
   ],
   "source": [
    "vector = np.arange(10,50)\n",
    "print(vector)"
   ]
  },
  {
   "cell_type": "markdown",
   "metadata": {},
   "source": [
    "#### 8. Reverse a vector (first element becomes last) (★☆☆)"
   ]
  },
  {
   "cell_type": "code",
   "execution_count": 16,
   "metadata": {
    "tags": []
   },
   "outputs": [
    {
     "name": "stdout",
     "output_type": "stream",
     "text": [
      "[29 28 27 26 25 24 23 22 21 20 19 18 17 16 15 14 13 12 11 10  9  8  7  6\n",
      "  5  4  3  2  1  0]\n"
     ]
    }
   ],
   "source": [
    "vector = np.arange(30)\n",
    "vector = vector[::-1]\n",
    "print(vector)"
   ]
  },
  {
   "cell_type": "markdown",
   "metadata": {},
   "source": [
    "#### 9. Create a 3x3 matrix with values ranging from 0 to 8 (★☆☆)"
   ]
  },
  {
   "cell_type": "code",
   "execution_count": 17,
   "metadata": {
    "tags": []
   },
   "outputs": [
    {
     "name": "stdout",
     "output_type": "stream",
     "text": [
      "[[0 1 2]\n",
      " [3 4 5]\n",
      " [6 7 8]]\n"
     ]
    }
   ],
   "source": [
    "matrix = np.arange(9).reshape(3, 3)\n",
    "print(matrix)"
   ]
  },
  {
   "cell_type": "markdown",
   "metadata": {
    "tags": []
   },
   "source": [
    "#### 10. Find indices of non-zero elements from [1,2,0,0,4,0] (★☆☆)"
   ]
  },
  {
   "cell_type": "code",
   "execution_count": 18,
   "metadata": {
    "tags": []
   },
   "outputs": [
    {
     "name": "stdout",
     "output_type": "stream",
     "text": [
      "(array([0, 1, 4]),)\n"
     ]
    }
   ],
   "source": [
    "non_zeroes_indices = np.nonzero([1,2,0,0,4,0])\n",
    "print(non_zeroes_indices)"
   ]
  },
  {
   "cell_type": "markdown",
   "metadata": {},
   "source": [
    "#### 11. Create a 3x3 identity matrix (★☆☆)"
   ]
  },
  {
   "cell_type": "code",
   "execution_count": 19,
   "metadata": {
    "tags": []
   },
   "outputs": [
    {
     "name": "stdout",
     "output_type": "stream",
     "text": [
      "[[1. 0. 0.]\n",
      " [0. 1. 0.]\n",
      " [0. 0. 1.]]\n"
     ]
    }
   ],
   "source": [
    "matrix = np.eye(3)\n",
    "print(matrix)"
   ]
  },
  {
   "cell_type": "markdown",
   "metadata": {},
   "source": [
    "#### 12. Create a 3x3x3 array with random values (★☆☆)"
   ]
  },
  {
   "cell_type": "code",
   "execution_count": 20,
   "metadata": {
    "tags": []
   },
   "outputs": [
    {
     "name": "stdout",
     "output_type": "stream",
     "text": [
      "[[[85.4726986  44.64160648 35.43729002]\n",
      "  [ 7.16092348  6.01942057 18.46517284]\n",
      "  [90.99646031 12.81904236 13.2326097 ]]\n",
      "\n",
      " [[68.87996165 26.81729161 36.89118749]\n",
      "  [92.82494605 20.88323519  9.15324002]\n",
      "  [35.99766543 13.07738452 30.52223139]]\n",
      "\n",
      " [[93.2637386   8.24016801 39.36973887]\n",
      "  [70.85965507 63.02336872 23.3270509 ]\n",
      "  [33.69330208 57.96708905 93.58802158]]]\n"
     ]
    }
   ],
   "source": [
    "matrix = 100*np.random.random((3,3,3))\n",
    "print(matrix)"
   ]
  },
  {
   "cell_type": "markdown",
   "metadata": {},
   "source": [
    "#### 13. Create a 10x10 array with random values and find the minimum and maximum values (★☆☆)"
   ]
  },
  {
   "cell_type": "code",
   "execution_count": 21,
   "metadata": {
    "tags": []
   },
   "outputs": [
    {
     "name": "stdout",
     "output_type": "stream",
     "text": [
      "[[ 2.1 17.2 18.6 22.4  9.7 20.9 64.1 20.8 80.7 69.7]\n",
      " [49.4 72.6 73.6  6.4 79.2 84.1  4.6 51.2 32.6  5.8]\n",
      " [98.9 97.2 13.2 20.2 13.  50.1 94.9 77.3 67.  68.7]\n",
      " [35.2  7.4 74.  41.7 33.1 49.8 32.  98.5  4.7 71.4]\n",
      " [74.6 38.6 80.5 15.7 80.9 81.9 92.3 23.4 32.8 57.5]\n",
      " [81.1 80.7 57.1 69.7 61.4 40.4 47.9 39.7 21.2 30.2]\n",
      " [90.8 73.4 77.2 23.6  2.9 23.2 64.4 86.  72.2 11.6]\n",
      " [15.2 35.5 50.8 51.7 23.3 77.  21.9 50.9 50.  78.7]\n",
      " [94.1 45.1 28.8 43.2 36.5 21.9 80.5 17.9 21.3 76.7]\n",
      " [21.1 63.6 34.8 55.   9.7 81.  53.8 21.8 49.3 26.5]]\n",
      "Minimum is: 2.1; Maximum is 98.9\n"
     ]
    }
   ],
   "source": [
    "matrix = 100*np.random.random((10,10)).round(3)\n",
    "print(matrix)\n",
    "matrixrMin, matrixMax = matrix.min(), matrix.max()\n",
    "print(f\"Minimum is: {matrixrMin}; Maximum is {matrixMax}\" )"
   ]
  },
  {
   "cell_type": "markdown",
   "metadata": {},
   "source": [
    "#### 14. Create a random vector of size 30 and find the mean value (★☆☆)"
   ]
  },
  {
   "cell_type": "code",
   "execution_count": 22,
   "metadata": {
    "tags": []
   },
   "outputs": [
    {
     "name": "stdout",
     "output_type": "stream",
     "text": [
      "[40. 80. 70. 20. 90. 40.  0. 10. 30. 50. 70. 90. 30. 40. 40. 50. 90. 10.\n",
      " 40. 10. 40. 20. 80. 60. 30. 10. 90. 90. 20. 60.]\n",
      "46.666666666666664\n"
     ]
    }
   ],
   "source": [
    "vector = 100*np.random.random(30).round(1)\n",
    "print(vector)\n",
    "avgValue = vector.mean()\n",
    "print(avgValue)"
   ]
  },
  {
   "cell_type": "markdown",
   "metadata": {},
   "source": [
    "#### 15. Create a 2d array with 1 on the border and 0 inside (★☆☆)"
   ]
  },
  {
   "cell_type": "code",
   "execution_count": 23,
   "metadata": {
    "tags": []
   },
   "outputs": [
    {
     "name": "stdout",
     "output_type": "stream",
     "text": [
      "[[1. 1. 1. 1. 1. 1. 1. 1. 1. 1.]\n",
      " [1. 0. 0. 0. 0. 0. 0. 0. 0. 1.]\n",
      " [1. 0. 0. 0. 0. 0. 0. 0. 0. 1.]\n",
      " [1. 0. 0. 0. 0. 0. 0. 0. 0. 1.]\n",
      " [1. 0. 0. 0. 0. 0. 0. 0. 0. 1.]\n",
      " [1. 0. 0. 0. 0. 0. 0. 0. 0. 1.]\n",
      " [1. 0. 0. 0. 0. 0. 0. 0. 0. 1.]\n",
      " [1. 0. 0. 0. 0. 0. 0. 0. 0. 1.]\n",
      " [1. 0. 0. 0. 0. 0. 0. 0. 0. 1.]\n",
      " [1. 1. 1. 1. 1. 1. 1. 1. 1. 1.]]\n"
     ]
    }
   ],
   "source": [
    "matrix = np.ones((10,10))\n",
    "matrix[1:-1, 1:-1] = 0\n",
    "print(matrix)"
   ]
  },
  {
   "cell_type": "markdown",
   "metadata": {},
   "source": [
    "#### 16. How to add a border (filled with 0's) around an existing array? (★☆☆)"
   ]
  },
  {
   "cell_type": "code",
   "execution_count": 24,
   "metadata": {
    "tags": []
   },
   "outputs": [
    {
     "name": "stdout",
     "output_type": "stream",
     "text": [
      "[[0. 0. 0. 0. 0. 0. 0.]\n",
      " [0. 1. 1. 1. 1. 1. 0.]\n",
      " [0. 1. 1. 1. 1. 1. 0.]\n",
      " [0. 1. 1. 1. 1. 1. 0.]\n",
      " [0. 1. 1. 1. 1. 1. 0.]\n",
      " [0. 1. 1. 1. 1. 1. 0.]\n",
      " [0. 0. 0. 0. 0. 0. 0.]]\n"
     ]
    }
   ],
   "source": [
    "matrix = np.ones((5,5))\n",
    "matrix = np.pad(matrix, pad_width=1, mode='constant', constant_values=0)\n",
    "print(matrix)"
   ]
  },
  {
   "cell_type": "markdown",
   "metadata": {},
   "source": [
    "#### 17. What is the result of the following expression? (★☆☆)\n",
    "```python\n",
    "0 * np.nan\n",
    "np.nan == np.nan\n",
    "np.inf > np.nan\n",
    "np.nan - np.nan\n",
    "np.nan in set([np.nan])\n",
    "0.3 == 3 * 0.1\n",
    "```"
   ]
  },
  {
   "cell_type": "code",
   "execution_count": 25,
   "metadata": {
    "tags": []
   },
   "outputs": [
    {
     "name": "stdout",
     "output_type": "stream",
     "text": [
      "0 * np.nan=nan\n",
      "np.nan == np.nan=False\n",
      "np.inf > np.nan=False\n",
      "np.nan - np.nan=nan\n",
      "np.nan in set([np.nan])=True\n",
      "0.3 == 3 * 0.1=False\n"
     ]
    }
   ],
   "source": [
    "print(f\"0 * np.nan={0 * np.nan}\")\n",
    "print(f\"np.nan == np.nan={np.nan == np.nan}\")\n",
    "print(f\"np.inf > np.nan={np.inf > np.nan}\")\n",
    "print(f\"np.nan - np.nan={np.nan - np.nan}\")\n",
    "print(f\"np.nan in set([np.nan])={np.nan in set([np.nan])}\")\n",
    "print(f\"0.3 == 3 * 0.1={0.3 == 3 * 0.1}\")\n"
   ]
  },
  {
   "cell_type": "markdown",
   "metadata": {},
   "source": [
    "#### 18. Create a 5x5 matrix with values 1,2,3,4 just below the diagonal (★☆☆)"
   ]
  },
  {
   "cell_type": "code",
   "execution_count": 26,
   "metadata": {
    "tags": []
   },
   "outputs": [
    {
     "name": "stdout",
     "output_type": "stream",
     "text": [
      "[[0 0 0 0 0]\n",
      " [1 0 0 0 0]\n",
      " [0 2 0 0 0]\n",
      " [0 0 3 0 0]\n",
      " [0 0 0 4 0]]\n"
     ]
    }
   ],
   "source": [
    "matrix = np.diag(1+np.arange(4),k=-1)\n",
    "print(matrix)"
   ]
  },
  {
   "cell_type": "markdown",
   "metadata": {
    "tags": []
   },
   "source": [
    "# 19. Create a 8x8 matrix and fill it with a checkerboard pattern (★☆☆)"
   ]
  },
  {
   "cell_type": "code",
   "execution_count": 27,
   "metadata": {
    "tags": []
   },
   "outputs": [
    {
     "name": "stdout",
     "output_type": "stream",
     "text": [
      "[[0 1 0 1 0 1 0 1]\n",
      " [1 0 1 0 1 0 1 0]\n",
      " [0 1 0 1 0 1 0 1]\n",
      " [1 0 1 0 1 0 1 0]\n",
      " [0 1 0 1 0 1 0 1]\n",
      " [1 0 1 0 1 0 1 0]\n",
      " [0 1 0 1 0 1 0 1]\n",
      " [1 0 1 0 1 0 1 0]]\n"
     ]
    }
   ],
   "source": [
    "matrix = np.zeros((8,8),dtype=int)\n",
    "matrix[1::2,::2] = 1\n",
    "matrix[::2,1::2] = 1\n",
    "print(matrix)"
   ]
  },
  {
   "cell_type": "markdown",
   "metadata": {
    "tags": []
   },
   "source": [
    "#### 20. Consider a (6,7,8) shape array, what is the index (x,y,z) of the 100th element? (★☆☆)"
   ]
  },
  {
   "cell_type": "code",
   "execution_count": 28,
   "metadata": {
    "tags": []
   },
   "outputs": [
    {
     "name": "stdout",
     "output_type": "stream",
     "text": [
      "(1, 5, 3)\n"
     ]
    }
   ],
   "source": [
    "print(np.unravel_index(99,(6,7,8)))"
   ]
  },
  {
   "cell_type": "markdown",
   "metadata": {},
   "source": [
    "#### 21. Create a checkerboard 8x8 matrix using the tile function (★☆☆)"
   ]
  },
  {
   "cell_type": "code",
   "execution_count": 29,
   "metadata": {
    "tags": []
   },
   "outputs": [
    {
     "name": "stdout",
     "output_type": "stream",
     "text": [
      "[[0 1 0 1 0 1 0 1]\n",
      " [1 0 1 0 1 0 1 0]\n",
      " [0 1 0 1 0 1 0 1]\n",
      " [1 0 1 0 1 0 1 0]\n",
      " [0 1 0 1 0 1 0 1]\n",
      " [1 0 1 0 1 0 1 0]\n",
      " [0 1 0 1 0 1 0 1]\n",
      " [1 0 1 0 1 0 1 0]]\n"
     ]
    }
   ],
   "source": [
    "matrix = np.tile( np.array([ [0,1], [1,0] ]), (4,4))\n",
    "print(matrix)"
   ]
  },
  {
   "cell_type": "markdown",
   "metadata": {},
   "source": [
    "#### 22. Normalize a 5x5 random matrix (★☆☆)"
   ]
  },
  {
   "cell_type": "code",
   "execution_count": 31,
   "metadata": {
    "tags": []
   },
   "outputs": [
    {
     "data": {
      "text/plain": [
       "array([[0.49730792, 0.71445893, 0.51876081, 0.42997619, 0.39558283],\n",
       "       [0.15025815, 1.        , 0.86780158, 0.76060622, 0.93698363],\n",
       "       [0.46577733, 0.35665593, 0.95796413, 0.79775487, 0.42882212],\n",
       "       [0.10246135, 0.91387012, 0.03892863, 0.57676292, 0.83159379],\n",
       "       [0.05788844, 0.9508892 , 0.30644976, 0.99959053, 0.56899391]])"
      ]
     },
     "execution_count": 31,
     "metadata": {},
     "output_type": "execute_result"
    }
   ],
   "source": [
    "matrix = np.random.random((5,5))\n",
    "maxValue =matrix.max() \n",
    "matrix /= maxValue\n",
    "matrix"
   ]
  },
  {
   "cell_type": "markdown",
   "metadata": {},
   "source": [
    "#### 23. Create a custom dtype that describes a color as four unsigned bytes (RGBA) (★☆☆)"
   ]
  },
  {
   "cell_type": "code",
   "execution_count": 32,
   "metadata": {
    "tags": []
   },
   "outputs": [
    {
     "data": {
      "text/plain": [
       "dtype([('r', 'u1'), ('g', 'u1'), ('b', 'u1'), ('a', 'u1')])"
      ]
     },
     "execution_count": 32,
     "metadata": {},
     "output_type": "execute_result"
    }
   ],
   "source": [
    "color = np.dtype([(\"r\", np.ubyte),\n",
    "                  (\"g\", np.ubyte),\n",
    "                  (\"b\", np.ubyte),\n",
    "                  (\"a\", np.ubyte)])\n",
    "color"
   ]
  },
  {
   "cell_type": "markdown",
   "metadata": {},
   "source": [
    "#### 24. Multiply a 5x3 matrix by a 3x2 matrix (real matrix product) (★☆☆)"
   ]
  },
  {
   "cell_type": "code",
   "execution_count": 33,
   "metadata": {
    "tags": []
   },
   "outputs": [
    {
     "name": "stdout",
     "output_type": "stream",
     "text": [
      "[[3. 3.]\n",
      " [3. 3.]\n",
      " [3. 3.]\n",
      " [3. 3.]\n",
      " [3. 3.]]\n"
     ]
    }
   ],
   "source": [
    "matrix2 = np.ones((5,3)) @ np.ones((3,2))\n",
    "print(matrix2)"
   ]
  },
  {
   "cell_type": "markdown",
   "metadata": {},
   "source": [
    "#### 25. Given a 1D array, negate all elements which are between 3 and 8, in place. (★☆☆)"
   ]
  },
  {
   "cell_type": "code",
   "execution_count": 34,
   "metadata": {
    "tags": []
   },
   "outputs": [
    {
     "name": "stdout",
     "output_type": "stream",
     "text": [
      "[ 0  1  2 -3 -4 -5 -6 -7 -8  9 10]\n"
     ]
    }
   ],
   "source": [
    "vector = np.arange(11)\n",
    "vector[3:9] = np.multiply(vector[3:9],-1)\n",
    "print(vector)"
   ]
  },
  {
   "cell_type": "markdown",
   "metadata": {},
   "source": [
    "#### 26. What is the output of the following script? (★☆☆)\n",
    "```python\n",
    "# Author: Jake VanderPlas\n",
    "\n",
    "print(sum(range(5),-1))\n",
    "from numpy import *\n",
    "print(sum(range(5),-1))\n",
    "```"
   ]
  },
  {
   "cell_type": "code",
   "execution_count": 35,
   "metadata": {
    "tags": []
   },
   "outputs": [
    {
     "name": "stdout",
     "output_type": "stream",
     "text": [
      "9\n",
      "10\n"
     ]
    }
   ],
   "source": [
    "print(sum(range(5),-1))\n",
    "from numpy import *\n",
    "print(sum(range(5),-1))"
   ]
  },
  {
   "cell_type": "markdown",
   "metadata": {},
   "source": [
    "#### 27. Consider an integer vector Z, which of these expressions are legal? (★☆☆)\n",
    "```python\n",
    "Z**Z\n",
    "2 << Z >> 2\n",
    "Z <- Z\n",
    "1j*Z\n",
    "Z/1/1\n",
    "Z<Z>Z\n",
    "```"
   ]
  },
  {
   "cell_type": "code",
   "execution_count": 36,
   "metadata": {
    "tags": []
   },
   "outputs": [
    {
     "name": "stdout",
     "output_type": "stream",
     "text": [
      "Z**Z = [        1         1         4        27       256      3125     46656\n",
      "    823543  16777216 387420489]\n",
      "2 << Z >> 2 = [  0   1   2   4   8  16  32  64 128 256]\n",
      "Z <- Z = [False False False False False False False False False False]\n",
      "1j*Z = [0.+0.j 0.+1.j 0.+2.j 0.+3.j 0.+4.j 0.+5.j 0.+6.j 0.+7.j 0.+8.j 0.+9.j]\n",
      "Z/1/1 = [0. 1. 2. 3. 4. 5. 6. 7. 8. 9.]\n"
     ]
    },
    {
     "ename": "ValueError",
     "evalue": "The truth value of an array with more than one element is ambiguous. Use a.any() or a.all()",
     "output_type": "error",
     "traceback": [
      "\u001b[0;31m---------------------------------------------------------------------------\u001b[0m",
      "\u001b[0;31mValueError\u001b[0m                                Traceback (most recent call last)",
      "\u001b[0;32m<ipython-input-36-d39dba4628c9>\u001b[0m in \u001b[0;36m<module>\u001b[0;34m\u001b[0m\n\u001b[1;32m      5\u001b[0m \u001b[0mprint\u001b[0m\u001b[0;34m(\u001b[0m\u001b[0;34mf\"1j*Z = {1j*Z}\"\u001b[0m\u001b[0;34m)\u001b[0m\u001b[0;34m\u001b[0m\u001b[0;34m\u001b[0m\u001b[0m\n\u001b[1;32m      6\u001b[0m \u001b[0mprint\u001b[0m\u001b[0;34m(\u001b[0m\u001b[0;34mf\"Z/1/1 = {Z/1/1}\"\u001b[0m\u001b[0;34m)\u001b[0m\u001b[0;34m\u001b[0m\u001b[0;34m\u001b[0m\u001b[0m\n\u001b[0;32m----> 7\u001b[0;31m \u001b[0mprint\u001b[0m\u001b[0;34m(\u001b[0m\u001b[0;34mf\"Z<Z>Z = {Z<Z>Z}\"\u001b[0m\u001b[0;34m)\u001b[0m\u001b[0;34m\u001b[0m\u001b[0;34m\u001b[0m\u001b[0m\n\u001b[0m",
      "\u001b[0;31mValueError\u001b[0m: The truth value of an array with more than one element is ambiguous. Use a.any() or a.all()"
     ]
    }
   ],
   "source": [
    "Z = np.arange(10, dtype=int)\n",
    "print(f\"Z**Z = {Z**Z}\")\n",
    "print(f\"2 << Z >> 2 = {2 << Z >> 2}\")\n",
    "print(f\"Z <- Z = {Z <- Z}\")\n",
    "print(f\"1j*Z = {1j*Z}\")\n",
    "print(f\"Z/1/1 = {Z/1/1}\")\n",
    "print(f\"Z<Z>Z = {Z<Z>Z}\")"
   ]
  },
  {
   "cell_type": "markdown",
   "metadata": {},
   "source": [
    "#### 28. What are the result of the following expressions? (★☆☆)\n",
    "```python\n",
    "np.array(0) / np.array(0)\n",
    "np.array(0) // np.array(0)\n",
    "np.array([np.nan]).astype(int).astype(float)\n",
    "```"
   ]
  },
  {
   "cell_type": "code",
   "execution_count": 37,
   "metadata": {
    "tags": []
   },
   "outputs": [
    {
     "name": "stdout",
     "output_type": "stream",
     "text": [
      "np.array(0) / np.array(0) = nan\n",
      "np.array(0) // np.array(0) = 0\n",
      "np.array([np.nan]).astype(int).astype(float) = [-9.22337204e+18]\n"
     ]
    },
    {
     "name": "stderr",
     "output_type": "stream",
     "text": [
      "/opt/sagemath-9.2/local/lib/python3.7/site-packages/ipykernel_launcher.py:1: RuntimeWarning: invalid value encountered in true_divide\n",
      "  \"\"\"Entry point for launching an IPython kernel.\n",
      "/opt/sagemath-9.2/local/lib/python3.7/site-packages/ipykernel_launcher.py:2: RuntimeWarning: divide by zero encountered in floor_divide\n",
      "  \n"
     ]
    }
   ],
   "source": [
    "print(f\"np.array(0) / np.array(0) = {np.array(0) / np.array(0)}\")\n",
    "print(f\"np.array(0) // np.array(0) = {np.array(0) // np.array(0)}\")\n",
    "print(f\"np.array([np.nan]).astype(int).astype(float) = {np.array([np.nan]).astype(int).astype(float)}\")"
   ]
  },
  {
   "cell_type": "markdown",
   "metadata": {},
   "source": [
    "#### 29. How to round away from zero a float array ? (★☆☆)"
   ]
  },
  {
   "cell_type": "code",
   "execution_count": 40,
   "metadata": {
    "tags": []
   },
   "outputs": [
    {
     "name": "stdout",
     "output_type": "stream",
     "text": [
      "[0. 1. 2. 3. 4. 5. 6. 7. 8. 9.]\n"
     ]
    }
   ],
   "source": [
    "vector = np.random.uniform(-10,10,10)\n",
    "print(np.where(Z>0, np.ceil(Z), np.floor(Z)))"
   ]
  },
  {
   "cell_type": "markdown",
   "metadata": {},
   "source": [
    "#### 30. How to find common values between two arrays? (★☆☆)"
   ]
  },
  {
   "cell_type": "code",
   "execution_count": 41,
   "metadata": {
    "tags": []
   },
   "outputs": [
    {
     "name": "stdout",
     "output_type": "stream",
     "text": [
      "[39]\n"
     ]
    }
   ],
   "source": [
    "vector1 = np.random.randint(10,40,10)\n",
    "vector2 = np.random.randint(39,50,10)\n",
    "print(np.intersect1d(vector1,vector2))"
   ]
  },
  {
   "cell_type": "markdown",
   "metadata": {},
   "source": [
    "#### 31. How to ignore all numpy warnings (not recommended)? (★☆☆)"
   ]
  },
  {
   "cell_type": "code",
   "execution_count": 42,
   "metadata": {
    "tags": []
   },
   "outputs": [],
   "source": [
    "# Suicide mode on\n",
    "defaults = np.seterr(all=\"ignore\")\n",
    "Z = np.ones(1) / 0\n"
   ]
  },
  {
   "cell_type": "markdown",
   "metadata": {},
   "source": [
    "#### 32. Is the following expressions true? (★☆☆)\n",
    "```python\n",
    "np.sqrt(-1) == np.emath.sqrt(-1)\n",
    "```"
   ]
  },
  {
   "cell_type": "code",
   "execution_count": 43,
   "metadata": {
    "tags": []
   },
   "outputs": [
    {
     "data": {
      "text/plain": [
       "False"
      ]
     },
     "execution_count": 43,
     "metadata": {},
     "output_type": "execute_result"
    }
   ],
   "source": [
    "np.sqrt(-1) == np.emath.sqrt(-1)"
   ]
  },
  {
   "cell_type": "code",
   "execution_count": 44,
   "metadata": {
    "tags": []
   },
   "outputs": [],
   "source": [
    "_ = np.seterr(**defaults)"
   ]
  },
  {
   "cell_type": "code",
   "execution_count": 45,
   "metadata": {
    "tags": []
   },
   "outputs": [
    {
     "name": "stderr",
     "output_type": "stream",
     "text": [
      "/opt/sagemath-9.2/local/lib/python3.7/site-packages/ipykernel_launcher.py:1: RuntimeWarning: invalid value encountered in sqrt\n",
      "  \"\"\"Entry point for launching an IPython kernel.\n"
     ]
    },
    {
     "data": {
      "text/plain": [
       "False"
      ]
     },
     "execution_count": 45,
     "metadata": {},
     "output_type": "execute_result"
    }
   ],
   "source": [
    "np.sqrt(-1) == np.emath.sqrt(-1)"
   ]
  },
  {
   "cell_type": "markdown",
   "metadata": {},
   "source": [
    "#### 33. How to get the dates of yesterday, today and tomorrow? (★☆☆)"
   ]
  },
  {
   "cell_type": "code",
   "execution_count": 46,
   "metadata": {
    "tags": []
   },
   "outputs": [
    {
     "name": "stdout",
     "output_type": "stream",
     "text": [
      "Yesterday: 2023-03-30, Today: 2023-03-31. Tomorrow: 2023-04-01\n"
     ]
    }
   ],
   "source": [
    "yesterday = np.datetime64('today') - np.timedelta64(1)\n",
    "today     = np.datetime64('today')\n",
    "tomorrow  = np.datetime64('today') + np.timedelta64(1)\n",
    "print(f\"Yesterday: {yesterday}, Today: {today}. Tomorrow: {tomorrow}\")"
   ]
  },
  {
   "cell_type": "markdown",
   "metadata": {},
   "source": [
    "#### 34. How to get all the dates corresponding to the month of July 2016? (★★☆)"
   ]
  },
  {
   "cell_type": "code",
   "execution_count": 47,
   "metadata": {
    "tags": []
   },
   "outputs": [
    {
     "name": "stdout",
     "output_type": "stream",
     "text": [
      "['2016-07-01' '2016-07-02' '2016-07-03' '2016-07-04' '2016-07-05'\n",
      " '2016-07-06' '2016-07-07' '2016-07-08' '2016-07-09' '2016-07-10'\n",
      " '2016-07-11' '2016-07-12' '2016-07-13' '2016-07-14' '2016-07-15'\n",
      " '2016-07-16' '2016-07-17' '2016-07-18' '2016-07-19' '2016-07-20'\n",
      " '2016-07-21' '2016-07-22' '2016-07-23' '2016-07-24' '2016-07-25'\n",
      " '2016-07-26' '2016-07-27' '2016-07-28' '2016-07-29' '2016-07-30'\n",
      " '2016-07-31']\n"
     ]
    }
   ],
   "source": [
    "vectorDates = np.arange('2016-07', '2016-08', dtype='datetime64[D]')\n",
    "print(vectorDates)"
   ]
  },
  {
   "cell_type": "markdown",
   "metadata": {},
   "source": [
    "#### 35. How to compute ((A+B)*(-A/2)) in place (without copy)? (★★☆)"
   ]
  },
  {
   "cell_type": "code",
   "execution_count": 48,
   "metadata": {
    "tags": []
   },
   "outputs": [
    {
     "data": {
      "text/plain": [
       "array([-150., -150., -150., -150., -150.])"
      ]
     },
     "execution_count": 48,
     "metadata": {},
     "output_type": "execute_result"
    }
   ],
   "source": [
    "A = np.ones(5)*10\n",
    "B = np.ones(5)*20\n",
    "np.add(A,B,out=B)\n",
    "np.divide(A,2,out=A)\n",
    "np.negative(A,out=A)\n",
    "np.multiply(A,B,out=A)"
   ]
  },
  {
   "cell_type": "markdown",
   "metadata": {},
   "source": [
    "#### 36. Extract the integer part of a random array of positive numbers using 4 different methods (★★☆)"
   ]
  },
  {
   "cell_type": "code",
   "execution_count": 52,
   "metadata": {
    "tags": []
   },
   "outputs": [
    {
     "name": "stdout",
     "output_type": "stream",
     "text": [
      "[2.2513866  6.25700782 7.86458285 7.83649987 5.20220022 4.7675847\n",
      " 9.05885725 7.23173251 5.11327314 1.33797816]\n",
      "[2. 6. 7. 7. 5. 4. 9. 7. 5. 1.]\n",
      "[2. 6. 7. 7. 5. 4. 9. 7. 5. 1.]\n",
      "[2. 6. 7. 7. 5. 4. 9. 7. 5. 1.]\n",
      "[2 6 7 7 5 4 9 7 5 1]\n"
     ]
    }
   ],
   "source": [
    "vector = np.random.uniform(0,10,10)\n",
    "print(vector)\n",
    "print(vector - vector%1)\n",
    "print(vector // 1)\n",
    "print(np.floor(vector))\n",
    "print(vector.astype(int))"
   ]
  },
  {
   "cell_type": "markdown",
   "metadata": {},
   "source": [
    "#### 37. Create a 5x5 matrix with row values ranging from 0 to 4 (★★☆)"
   ]
  },
  {
   "cell_type": "code",
   "execution_count": 53,
   "metadata": {
    "tags": []
   },
   "outputs": [
    {
     "name": "stdout",
     "output_type": "stream",
     "text": [
      "[[0. 1. 2. 3. 4.]\n",
      " [0. 1. 2. 3. 4.]\n",
      " [0. 1. 2. 3. 4.]\n",
      " [0. 1. 2. 3. 4.]\n",
      " [0. 1. 2. 3. 4.]]\n"
     ]
    }
   ],
   "source": [
    "matrix = np.zeros((5,5))\n",
    "matrix += np.arange(5)\n",
    "print(matrix)"
   ]
  },
  {
   "cell_type": "markdown",
   "metadata": {},
   "source": [
    "#### 38. Consider a generator function that generates 10 integers and use it to build an array (★☆☆)"
   ]
  },
  {
   "cell_type": "code",
   "execution_count": 54,
   "metadata": {
    "tags": []
   },
   "outputs": [
    {
     "name": "stdout",
     "output_type": "stream",
     "text": [
      "[0 1 2 3 4 5 6 7 8 9]\n"
     ]
    }
   ],
   "source": [
    "def generate():\n",
    "    for val in range(10):\n",
    "        yield val\n",
    "vector = np.fromiter(generate(), dtype=int)\n",
    "print(vector)"
   ]
  },
  {
   "cell_type": "markdown",
   "metadata": {},
   "source": [
    "#### 39. Create a vector of size 10 with values ranging from 0 to 1, both excluded (★★☆)"
   ]
  },
  {
   "cell_type": "code",
   "execution_count": 55,
   "metadata": {
    "tags": []
   },
   "outputs": [
    {
     "name": "stdout",
     "output_type": "stream",
     "text": [
      "[0.09090909 0.18181818 0.27272727 0.36363636 0.45454545 0.54545455\n",
      " 0.63636364 0.72727273 0.81818182 0.90909091]\n"
     ]
    }
   ],
   "source": [
    "vector = np.linspace(0,1,11,endpoint=False)[1:]\n",
    "print(vector)"
   ]
  },
  {
   "cell_type": "markdown",
   "metadata": {},
   "source": [
    "#### 40. Create a random vector of size 10 and sort it (★★☆)"
   ]
  },
  {
   "cell_type": "code",
   "execution_count": 56,
   "metadata": {
    "tags": []
   },
   "outputs": [
    {
     "name": "stdout",
     "output_type": "stream",
     "text": [
      "[ 6.30137092 40.60791994 42.16521234 45.13721304 50.66825048 57.40392248\n",
      " 67.16466308 75.18401966 78.65782156 84.16236359]\n"
     ]
    }
   ],
   "source": [
    "vector = 100* np.random.random(10)\n",
    "vector.sort()\n",
    "print(vector)"
   ]
  },
  {
   "cell_type": "markdown",
   "metadata": {},
   "source": [
    "#### 41. How to sum a small array faster than np.sum? (★★☆)"
   ]
  },
  {
   "cell_type": "code",
   "execution_count": 57,
   "metadata": {
    "tags": []
   },
   "outputs": [
    {
     "name": "stdout",
     "output_type": "stream",
     "text": [
      "[0 1 2 3 4 5 6 7 8 9]\n"
     ]
    },
    {
     "data": {
      "text/plain": [
       "45"
      ]
     },
     "execution_count": 57,
     "metadata": {},
     "output_type": "execute_result"
    }
   ],
   "source": [
    "vector = np.arange(10)\n",
    "print(vector)\n",
    "np.add.reduce(vector)"
   ]
  },
  {
   "cell_type": "markdown",
   "metadata": {},
   "source": [
    "#### 42. Consider two random array A and B, check if they are equal (★★☆)"
   ]
  },
  {
   "cell_type": "code",
   "execution_count": 58,
   "metadata": {
    "tags": []
   },
   "outputs": [
    {
     "name": "stdout",
     "output_type": "stream",
     "text": [
      "[7 0 2 4 6 9 4 1 4 7]\n",
      "[4 6 6 9 3 0 2 3 0 2]\n",
      "False\n"
     ]
    }
   ],
   "source": [
    "A = np.random.randint(0,10,10)\n",
    "print(A)\n",
    "\n",
    "B = np.random.randint(0,10,10)\n",
    "print(B) \n",
    "print(np.array_equal(A,B))"
   ]
  },
  {
   "cell_type": "markdown",
   "metadata": {},
   "source": [
    "#### 43. Make an array immutable (read-only) (★★☆)"
   ]
  },
  {
   "cell_type": "code",
   "execution_count": 59,
   "metadata": {
    "tags": []
   },
   "outputs": [
    {
     "ename": "ValueError",
     "evalue": "assignment destination is read-only",
     "output_type": "error",
     "traceback": [
      "\u001b[0;31m---------------------------------------------------------------------------\u001b[0m",
      "\u001b[0;31mValueError\u001b[0m                                Traceback (most recent call last)",
      "\u001b[0;32m<ipython-input-59-ff331946aa01>\u001b[0m in \u001b[0;36m<module>\u001b[0;34m\u001b[0m\n\u001b[1;32m      1\u001b[0m \u001b[0mvector\u001b[0m \u001b[0;34m=\u001b[0m \u001b[0mnp\u001b[0m\u001b[0;34m.\u001b[0m\u001b[0mzeros\u001b[0m\u001b[0;34m(\u001b[0m\u001b[0;36m15\u001b[0m\u001b[0;34m)\u001b[0m\u001b[0;34m\u001b[0m\u001b[0;34m\u001b[0m\u001b[0m\n\u001b[1;32m      2\u001b[0m \u001b[0mvector\u001b[0m\u001b[0;34m.\u001b[0m\u001b[0mflags\u001b[0m\u001b[0;34m.\u001b[0m\u001b[0mwriteable\u001b[0m \u001b[0;34m=\u001b[0m \u001b[0;32mFalse\u001b[0m\u001b[0;34m\u001b[0m\u001b[0;34m\u001b[0m\u001b[0m\n\u001b[0;32m----> 3\u001b[0;31m \u001b[0mvector\u001b[0m\u001b[0;34m[\u001b[0m\u001b[0;36m3\u001b[0m\u001b[0;34m]\u001b[0m \u001b[0;34m=\u001b[0m \u001b[0;36m5\u001b[0m\u001b[0;34m\u001b[0m\u001b[0;34m\u001b[0m\u001b[0m\n\u001b[0m",
      "\u001b[0;31mValueError\u001b[0m: assignment destination is read-only"
     ]
    }
   ],
   "source": [
    "vector = np.zeros(15)\n",
    "vector.flags.writeable = False\n",
    "vector[3] = 5"
   ]
  },
  {
   "cell_type": "markdown",
   "metadata": {},
   "source": [
    "#### 44. Consider a random 10x2 matrix representing cartesian coordinates, convert them to polar coordinates (★★☆)"
   ]
  },
  {
   "cell_type": "code",
   "execution_count": 60,
   "metadata": {
    "tags": []
   },
   "outputs": [
    {
     "name": "stdout",
     "output_type": "stream",
     "text": [
      "[0.65090541 0.45224803 0.17007009 1.06133725 0.57427701 1.01592323\n",
      " 0.29805745 0.36590432 0.19213301 0.61324261]\n",
      "[0.29261742 0.02006576 0.29581807 0.82733964 0.20618037 0.9410891\n",
      " 1.43528121 0.47019297 0.87250354 0.78983029]\n"
     ]
    }
   ],
   "source": [
    "matrix = np.random.random((10,2))\n",
    "X,Y = matrix[:,0], matrix[:,1]\n",
    "R = np.sqrt(X**2+Y**2)\n",
    "T = np.arctan2(Y,X)\n",
    "print(R)\n",
    "print(T)"
   ]
  },
  {
   "cell_type": "markdown",
   "metadata": {},
   "source": [
    "#### 45. Create random vector of size 10 and replace the maximum value by 0 (★★☆)"
   ]
  },
  {
   "cell_type": "code",
   "execution_count": 61,
   "metadata": {
    "tags": []
   },
   "outputs": [
    {
     "name": "stdout",
     "output_type": "stream",
     "text": [
      "[0.26357354 0.86562046 0.94021946 0.93495759 0.74921692 0.98929223\n",
      " 0.54781121 0.07657476 0.06798582 0.60459962]\n",
      "\n",
      "[0.26357354 0.86562046 0.94021946 0.93495759 0.74921692 0.\n",
      " 0.54781121 0.07657476 0.06798582 0.60459962]\n"
     ]
    }
   ],
   "source": [
    "vector = np.random.random(10)\n",
    "print(vector)\n",
    "print()\n",
    "vector[vector.argmax()] = 0\n",
    "print(vector)"
   ]
  },
  {
   "cell_type": "markdown",
   "metadata": {},
   "source": [
    "#### 46. Create a structured array with `x` and `y` coordinates covering the [0,1]x[0,1] area (★★☆)"
   ]
  },
  {
   "cell_type": "code",
   "execution_count": 62,
   "metadata": {
    "tags": []
   },
   "outputs": [
    {
     "name": "stdout",
     "output_type": "stream",
     "text": [
      "[[(0. , 0. ) (0.2, 0. ) (0.4, 0. ) (0.6, 0. ) (0.8, 0. ) (1. , 0. )]\n",
      " [(0. , 0.2) (0.2, 0.2) (0.4, 0.2) (0.6, 0.2) (0.8, 0.2) (1. , 0.2)]\n",
      " [(0. , 0.4) (0.2, 0.4) (0.4, 0.4) (0.6, 0.4) (0.8, 0.4) (1. , 0.4)]\n",
      " [(0. , 0.6) (0.2, 0.6) (0.4, 0.6) (0.6, 0.6) (0.8, 0.6) (1. , 0.6)]\n",
      " [(0. , 0.8) (0.2, 0.8) (0.4, 0.8) (0.6, 0.8) (0.8, 0.8) (1. , 0.8)]\n",
      " [(0. , 1. ) (0.2, 1. ) (0.4, 1. ) (0.6, 1. ) (0.8, 1. ) (1. , 1. )]]\n"
     ]
    }
   ],
   "source": [
    "vector = np.zeros((6,6), [('x',float),('y',float)])\n",
    "vector['x'], vector['y'] = np.meshgrid(np.linspace(0,1,6),\n",
    "                             np.linspace(0,1,6))\n",
    "print(vector)"
   ]
  },
  {
   "cell_type": "markdown",
   "metadata": {},
   "source": [
    "#### 47. Given two arrays, X and Y, construct the Cauchy matrix C (Cij =1/(xi - yj)) (★★☆)"
   ]
  },
  {
   "cell_type": "code",
   "execution_count": 63,
   "metadata": {
    "tags": []
   },
   "outputs": [
    {
     "name": "stdout",
     "output_type": "stream",
     "text": [
      "[[-2.         -0.66666667 -0.4        -0.28571429 -0.22222222 -0.18181818\n",
      "  -0.15384615 -0.13333333]\n",
      " [ 2.         -2.         -0.66666667 -0.4        -0.28571429 -0.22222222\n",
      "  -0.18181818 -0.15384615]\n",
      " [ 0.66666667  2.         -2.         -0.66666667 -0.4        -0.28571429\n",
      "  -0.22222222 -0.18181818]\n",
      " [ 0.4         0.66666667  2.         -2.         -0.66666667 -0.4\n",
      "  -0.28571429 -0.22222222]\n",
      " [ 0.28571429  0.4         0.66666667  2.         -2.         -0.66666667\n",
      "  -0.4        -0.28571429]\n",
      " [ 0.22222222  0.28571429  0.4         0.66666667  2.         -2.\n",
      "  -0.66666667 -0.4       ]\n",
      " [ 0.18181818  0.22222222  0.28571429  0.4         0.66666667  2.\n",
      "  -2.         -0.66666667]\n",
      " [ 0.15384615  0.18181818  0.22222222  0.28571429  0.4         0.66666667\n",
      "   2.         -2.        ]]\n"
     ]
    }
   ],
   "source": [
    "X = np.arange(8)\n",
    "Y = X + 0.5\n",
    "C = 1.0 / np.subtract.outer(X, Y)\n",
    "print(C)"
   ]
  },
  {
   "cell_type": "markdown",
   "metadata": {},
   "source": [
    "#### 48. Print the minimum and maximum representable value for each numpy scalar type (★★☆)"
   ]
  },
  {
   "cell_type": "code",
   "execution_count": 64,
   "metadata": {
    "tags": []
   },
   "outputs": [
    {
     "name": "stdout",
     "output_type": "stream",
     "text": [
      "-128\n",
      "127\n",
      "-2147483648\n",
      "2147483647\n",
      "-9223372036854775808\n",
      "9223372036854775807\n",
      "-3.4028235e+38\n",
      "3.4028235e+38\n",
      "1.1920929e-07\n",
      "-1.7976931348623157e+308\n",
      "1.7976931348623157e+308\n",
      "2.220446049250313e-16\n"
     ]
    }
   ],
   "source": [
    "for dtype in [np.int8, np.int32, np.int64]:\n",
    "   print(np.iinfo(dtype).min)\n",
    "   print(np.iinfo(dtype).max)\n",
    "for dtype in [np.float32, np.float64]:\n",
    "   print(np.finfo(dtype).min)\n",
    "   print(np.finfo(dtype).max)\n",
    "   print(np.finfo(dtype).eps)"
   ]
  },
  {
   "cell_type": "markdown",
   "metadata": {},
   "source": [
    "#### 49. How to print all the values of an array? (★★☆)"
   ]
  },
  {
   "cell_type": "code",
   "execution_count": 65,
   "metadata": {
    "tags": []
   },
   "outputs": [
    {
     "name": "stdout",
     "output_type": "stream",
     "text": [
      "[[1 1 1 1 1 1 1 1 1 1]\n",
      " [1 1 1 1 1 1 1 1 1 1]\n",
      " [1 1 1 1 1 1 1 1 1 1]\n",
      " [1 1 1 1 1 1 1 1 1 1]\n",
      " [1 1 1 1 1 1 1 1 1 1]\n",
      " [1 1 1 1 1 1 1 1 1 1]\n",
      " [1 1 1 1 1 1 1 1 1 1]\n",
      " [1 1 1 1 1 1 1 1 1 1]\n",
      " [1 1 1 1 1 1 1 1 1 1]\n",
      " [1 1 1 1 1 1 1 1 1 1]]\n"
     ]
    }
   ],
   "source": [
    "vector = np.ones((10,10), dtype=int)\n",
    "print(vector)"
   ]
  },
  {
   "cell_type": "markdown",
   "metadata": {},
   "source": [
    "#### 50. How to find the closest value (to a given scalar) in a vector? (★★☆)"
   ]
  },
  {
   "cell_type": "code",
   "execution_count": 66,
   "metadata": {
    "tags": []
   },
   "outputs": [
    {
     "name": "stdout",
     "output_type": "stream",
     "text": [
      "[100  98  96  94  92  90  88  86  84  82  80  78  76  74  72  70  68  66\n",
      "  64  62  60  58  56  54  52  50  48  46  44  42  40  38  36  34  32  30\n",
      "  28  26  24  22  20  18  16  14  12  10   8   6   4   2]\n",
      "10.212187517590488\n",
      "10\n"
     ]
    }
   ],
   "source": [
    "vector = np.arange(100, 0, -2)\n",
    "print(vector)\n",
    "scalar = np.random.uniform(0,100)\n",
    "print(scalar)\n",
    "index = (np.abs(vector-scalar)).argmin()\n",
    "print(vector[index])"
   ]
  },
  {
   "cell_type": "markdown",
   "metadata": {},
   "source": [
    "#### 51. Create a structured array representing a position (x,y) and a color (r,g,b) (★★☆)"
   ]
  },
  {
   "cell_type": "code",
   "execution_count": 67,
   "metadata": {
    "tags": []
   },
   "outputs": [
    {
     "name": "stdout",
     "output_type": "stream",
     "text": [
      "[((0., 0.), (0., 0., 0.)) ((0., 0.), (0., 0., 0.))\n",
      " ((0., 0.), (0., 0., 0.)) ((0., 0.), (0., 0., 0.))\n",
      " ((0., 0.), (0., 0., 0.)) ((0., 0.), (0., 0., 0.))\n",
      " ((0., 0.), (0., 0., 0.)) ((0., 0.), (0., 0., 0.))\n",
      " ((0., 0.), (0., 0., 0.)) ((0., 0.), (0., 0., 0.))]\n"
     ]
    }
   ],
   "source": [
    "vector = np.zeros(10, [ ('position', [ ('x', float),\n",
    "                                       ('y', float)]),\n",
    "                       \n",
    "                        ('color',    [ ('r', float),\n",
    "                                       ('g', float),\n",
    "                                       ('b', float)])])\n",
    "print(vector)"
   ]
  },
  {
   "cell_type": "markdown",
   "metadata": {},
   "source": [
    "#### 52. Consider a random vector with shape (100,2) representing coordinates, find point by point distances (★★☆)"
   ]
  },
  {
   "cell_type": "code",
   "execution_count": 68,
   "metadata": {
    "tags": []
   },
   "outputs": [
    {
     "name": "stdout",
     "output_type": "stream",
     "text": [
      "[[0.         0.72873491 0.33829436 0.3315585  0.64775024 0.18619832\n",
      "  0.66504632 0.21504778 0.26824671 0.27881641 0.69429107 0.58989385\n",
      "  0.51458989 0.23483832 0.29652609 0.13907697 0.51375107 0.29334455\n",
      "  0.38757148 0.25229939 0.27048115 0.78531701 0.32241218 0.26368497\n",
      "  0.83585827]\n",
      " [0.72873491 0.         0.79701866 0.54131692 0.08971218 0.89634162\n",
      "  0.44142412 0.51378614 0.77829019 0.74367136 0.03485719 0.23933114\n",
      "  0.76890466 0.54921955 1.01919298 0.67066111 0.23818964 0.43582802\n",
      "  0.40660762 0.78847417 0.45950565 0.46463698 1.04975216 0.78418992\n",
      "  0.13238122]\n",
      " [0.33829436 0.79701866 0.         0.25570219 0.74129935 0.46062674\n",
      "  0.53027713 0.39237265 0.07054565 0.61519374 0.76365939 0.58065196\n",
      "  0.20588182 0.28030522 0.5041229  0.46312464 0.65520357 0.43357778\n",
      "  0.60531887 0.59039358 0.41212593 0.64321866 0.49721483 0.60195894\n",
      "  0.86320161]\n",
      " [0.3315585  0.54131692 0.25570219 0.         0.48728303 0.51362699\n",
      "  0.33891011 0.22584603 0.24362179 0.54450758 0.50799764 0.32997136\n",
      "  0.28264948 0.10866245 0.60649739 0.38970183 0.41411042 0.22436433\n",
      "  0.4046271  0.54608252 0.21170966 0.45994037 0.61920206 0.55264453\n",
      "  0.61088368]\n",
      " [0.64775024 0.08971218 0.74129935 0.48728303 0.         0.81158425\n",
      "  0.44700257 0.433774   0.71656777 0.654029   0.0631733  0.22560431\n",
      "  0.73401999 0.48133574 0.93536636 0.5838241  0.14864998 0.35699097\n",
      "  0.31691608 0.69919635 0.38132111 0.49239568 0.9671296  0.69476097\n",
      "  0.22026   ]\n",
      " [0.18619832 0.89634162 0.46062674 0.51362699 0.81158425 0.\n",
      "  0.84992486 0.38990093 0.39269705 0.27434155 0.86261861 0.77312197\n",
      "  0.658954   0.42065521 0.1264024  0.23417233 0.66964134 0.46748916\n",
      "  0.52153507 0.21697407 0.44666291 0.9705031  0.16628033 0.23160425\n",
      "  1.00973698]\n",
      " [0.66504632 0.44142412 0.53027713 0.33891011 0.44700257 0.84992486\n",
      "  0.         0.50451577 0.55107036 0.83547532 0.42251321 0.22474134\n",
      "  0.40594432 0.43064426 0.94540329 0.69538463 0.48280524 0.45324463\n",
      "  0.58256179 0.85153327 0.45933608 0.12103096 0.95760165 0.85507564\n",
      "  0.43189216]\n",
      " [0.21504778 0.51378614 0.39237265 0.22584603 0.433774   0.38990093\n",
      "  0.50451577 0.         0.34068535 0.33251331 0.4792935  0.38717218\n",
      "  0.49523108 0.12656471 0.50870384 0.19295223 0.30551237 0.0784098\n",
      "  0.21443901 0.34729998 0.0567754  0.61892104 0.53698008 0.35057317\n",
      "  0.62160706]\n",
      " [0.26824671 0.77829019 0.07054565 0.24362179 0.71656777 0.39269705\n",
      "  0.55107036 0.34068535 0.         0.54589678 0.74417046 0.57357708\n",
      "  0.26775397 0.24047286 0.44345136 0.39538483 0.6195328  0.39045904\n",
      "  0.55510882 0.52012582 0.36749723 0.66817145 0.44044911 0.5318008\n",
      "  0.85386922]\n",
      " [0.27881641 0.74367136 0.61519374 0.54450758 0.654029   0.27434155\n",
      "  0.83547532 0.33251331 0.54589678 0.         0.71383088 0.6916543\n",
      "  0.7779808  0.43592724 0.3856636  0.15846331 0.50550689 0.38498212\n",
      "  0.33720996 0.06184745 0.37638564 0.94731606 0.43167064 0.0497507\n",
      "  0.87104999]\n",
      " [0.69429107 0.03485719 0.76365939 0.50799764 0.0631733  0.86261861\n",
      "  0.42251321 0.4792935  0.74417046 0.71383088 0.         0.21287355\n",
      "  0.73939532 0.51451118 0.98520296 0.63780201 0.20863906 0.4012524\n",
      "  0.37731117 0.75764763 0.42485819 0.45407072 1.01550797 0.75366628\n",
      "  0.15801324]\n",
      " [0.58989385 0.23933114 0.58065196 0.32997136 0.22560431 0.77312197\n",
      "  0.22474134 0.38717218 0.57357708 0.6916543  0.21287355 0.\n",
      "  0.53171035 0.37106974 0.88608518 0.57563572 0.26549686 0.31501978\n",
      "  0.39210356 0.72096361 0.33145211 0.29245532 0.90867634 0.72112866\n",
      "  0.28268125]\n",
      " [0.51458989 0.76890466 0.20588182 0.28264948 0.73401999 0.658954\n",
      "  0.40594432 0.49523108 0.26775397 0.7779808  0.73939532 0.53171035\n",
      "  0.         0.36866886 0.70954319 0.61992227 0.68662334 0.50624755\n",
      "  0.68690869 0.76340785 0.49172766 0.50050846 0.70308199 0.77330474\n",
      "  0.80469158]\n",
      " [0.23483832 0.54921955 0.28030522 0.10866245 0.48133574 0.42065521\n",
      "  0.43064426 0.12656471 0.24047286 0.43592724 0.51451118 0.37106974\n",
      "  0.36866886 0.         0.52340441 0.28115228 0.37906047 0.15336993\n",
      "  0.32911027 0.43783935 0.13270978 0.55063245 0.54184346 0.44418447\n",
      "  0.63821938]\n",
      " [0.29652609 1.01919298 0.5041229  0.60649739 0.93536636 0.1264024\n",
      "  0.94540329 0.50870384 0.44345136 0.3856636  0.98520296 0.88608518\n",
      "  0.70954319 0.52340441 0.         0.36055677 0.79469646 0.58698401\n",
      "  0.64791152 0.32468692 0.56511031 1.06643425 0.04738241 0.33853357\n",
      "  1.13022598]\n",
      " [0.13907697 0.67066111 0.46312464 0.38970183 0.5838241  0.23417233\n",
      "  0.69538463 0.19295223 0.39538483 0.15846331 0.63780201 0.57563572\n",
      "  0.61992227 0.28115228 0.36055677 0.         0.43889718 0.26061596\n",
      "  0.28736332 0.15746248 0.24546074 0.81110579 0.39855482 0.16311184\n",
      "  0.78947031]\n",
      " [0.51375107 0.23818964 0.65520357 0.41411042 0.14864998 0.66964134\n",
      "  0.48280524 0.30551237 0.6195328  0.50550689 0.20863906 0.26549686\n",
      "  0.68662334 0.37906047 0.79469646 0.43889718 0.         0.23495264\n",
      "  0.16867724 0.55061029 0.2596598  0.55781814 0.8284382  0.5461143\n",
      "  0.36646478]\n",
      " [0.29334455 0.43582802 0.43357778 0.22436433 0.35699097 0.46748916\n",
      "  0.45324463 0.0784098  0.39045904 0.38498212 0.4012524  0.31501978\n",
      "  0.50624755 0.15336993 0.58698401 0.26061596 0.23495264 0.\n",
      "  0.18075413 0.40840027 0.02480219 0.56275277 0.61538576 0.40974065\n",
      "  0.54325914]\n",
      " [0.38757148 0.40660762 0.60531887 0.4046271  0.31691608 0.52153507\n",
      "  0.58256179 0.21443901 0.55510882 0.33720996 0.37731117 0.39210356\n",
      "  0.68690869 0.32911027 0.64791152 0.28736332 0.16867724 0.18075413\n",
      "  0.         0.38414151 0.19734347 0.67686994 0.68531447 0.37889727\n",
      "  0.53505721]\n",
      " [0.25229939 0.78847417 0.59039358 0.54608252 0.69919635 0.21697407\n",
      "  0.85153327 0.34729998 0.52012582 0.06184745 0.75764763 0.72096361\n",
      "  0.76340785 0.43783935 0.32468692 0.15746248 0.55061029 0.40840027\n",
      "  0.38414151 0.         0.39646584 0.96618383 0.37101093 0.0146987\n",
      "  0.91376995]\n",
      " [0.27048115 0.45950565 0.41212593 0.21170966 0.38132111 0.44666291\n",
      "  0.45933608 0.0567754  0.36749723 0.37638564 0.42485819 0.33145211\n",
      "  0.49172766 0.13270978 0.56511031 0.24546074 0.2596598  0.02480219\n",
      "  0.19734347 0.39646584 0.         0.57112835 0.59280129 0.39860084\n",
      "  0.56548595]\n",
      " [0.78531701 0.46463698 0.64321866 0.45994037 0.49239568 0.9705031\n",
      "  0.12103096 0.61892104 0.66817145 0.94731606 0.45407072 0.29245532\n",
      "  0.50050846 0.55063245 1.06643425 0.81110579 0.55781814 0.56275277\n",
      "  0.67686994 0.96618383 0.57112835 0.         1.07850835 0.9691\n",
      "  0.41945757]\n",
      " [0.32241218 1.04975216 0.49721483 0.61920206 0.9671296  0.16628033\n",
      "  0.95760165 0.53698008 0.44044911 0.43167064 1.01550797 0.90867634\n",
      "  0.70308199 0.54184346 0.04738241 0.39855482 0.8284382  0.61538576\n",
      "  0.68531447 0.37101093 0.59280129 1.07850835 0.         0.38498685\n",
      "  1.15825357]\n",
      " [0.26368497 0.78418992 0.60195894 0.55264453 0.69476097 0.23160425\n",
      "  0.85507564 0.35057317 0.5318008  0.0497507  0.75366628 0.72112866\n",
      "  0.77330474 0.44418447 0.33853357 0.16311184 0.5461143  0.40974065\n",
      "  0.37889727 0.0146987  0.39860084 0.9691     0.38498685 0.\n",
      "  0.91018273]\n",
      " [0.83585827 0.13238122 0.86320161 0.61088368 0.22026    1.00973698\n",
      "  0.43189216 0.62160706 0.85386922 0.87104999 0.15801324 0.28268125\n",
      "  0.80469158 0.63821938 1.13022598 0.78947031 0.36646478 0.54325914\n",
      "  0.53505721 0.91376995 0.56548595 0.41945757 1.15825357 0.91018273\n",
      "  0.        ]]\n"
     ]
    }
   ],
   "source": [
    "vector = np.random.random((25,2))\n",
    "X,Y = np.atleast_2d(vector[:,0], vector[:,1])\n",
    "D = np.sqrt( (X-X.T)**2 + (Y-Y.T)**2)\n",
    "print(D)"
   ]
  },
  {
   "cell_type": "markdown",
   "metadata": {},
   "source": [
    "#### 53. How to convert a float (32 bits) array into an integer (32 bits) in place?"
   ]
  },
  {
   "cell_type": "code",
   "execution_count": 69,
   "metadata": {
    "tags": []
   },
   "outputs": [
    {
     "name": "stdout",
     "output_type": "stream",
     "text": [
      "[ 3.4260595 63.562855  88.14455   45.99377   67.98506   99.94867\n",
      " 76.34492   34.860764  84.52984   27.544449 ]\n",
      "[ 3 63 88 45 67 99 76 34 84 27]\n"
     ]
    }
   ],
   "source": [
    "vectorFloats = (np.random.rand(10)*100).astype(np.float32)\n",
    "print(vectorFloats)\n",
    "vectorInts = vectorFloats.view(np.int32)\n",
    "vectorInts[:] = vectorFloats\n",
    "print(vectorInts)"
   ]
  },
  {
   "cell_type": "markdown",
   "metadata": {},
   "source": [
    "#### 54. How to read the following file? (★★☆)\n",
    "```\n",
    "1, 2, 3, 4, 5\n",
    "6,  ,  , 7, 8\n",
    " ,  , 9,10,11\n",
    "```"
   ]
  },
  {
   "cell_type": "code",
   "execution_count": 70,
   "metadata": {
    "tags": []
   },
   "outputs": [
    {
     "name": "stdout",
     "output_type": "stream",
     "text": [
      "[[ 1  2  3  4  5]\n",
      " [ 6 -1 -1  7  8]\n",
      " [-1 -1  9 10 11]]\n"
     ]
    }
   ],
   "source": [
    "from io import StringIO\n",
    "\n",
    "s = StringIO('''1, 2, 3, 4, 5\n",
    "                6,  ,  , 7, 8\n",
    "                 ,  , 9,10,11\n",
    "''')\n",
    "readFile = np.genfromtxt(s, delimiter=\",\", dtype=int)\n",
    "print(readFile)"
   ]
  },
  {
   "cell_type": "markdown",
   "metadata": {},
   "source": [
    "#### 55. What is the equivalent of enumerate for numpy arrays? (★★☆)"
   ]
  },
  {
   "cell_type": "code",
   "execution_count": 71,
   "metadata": {
    "tags": []
   },
   "outputs": [
    {
     "name": "stdout",
     "output_type": "stream",
     "text": [
      "(0, 0) 0\n",
      "(0, 1) 1\n",
      "(0, 2) 2\n",
      "(1, 0) 3\n",
      "(1, 1) 4\n",
      "(1, 2) 5\n",
      "(2, 0) 6\n",
      "(2, 1) 7\n",
      "(2, 2) 8\n",
      "(0, 0) 0\n",
      "(0, 1) 1\n",
      "(0, 2) 2\n",
      "(1, 0) 3\n",
      "(1, 1) 4\n",
      "(1, 2) 5\n",
      "(2, 0) 6\n",
      "(2, 1) 7\n",
      "(2, 2) 8\n"
     ]
    }
   ],
   "source": [
    "matrix = np.arange(9).reshape(3,3)\n",
    "for index, value in np.ndenumerate(matrix):\n",
    "    print(index, value)\n",
    "for index in np.ndindex(matrix.shape):\n",
    "    print(index, matrix[index])"
   ]
  },
  {
   "cell_type": "markdown",
   "metadata": {},
   "source": [
    "#### 56. Generate a generic 2D Gaussian-like array (★★☆)"
   ]
  },
  {
   "cell_type": "code",
   "execution_count": 72,
   "metadata": {
    "tags": []
   },
   "outputs": [
    {
     "name": "stdout",
     "output_type": "stream",
     "text": [
      "[[0.36787944 0.44822088 0.51979489 0.57375342 0.60279818 0.60279818\n",
      "  0.57375342 0.51979489 0.44822088 0.36787944]\n",
      " [0.44822088 0.54610814 0.63331324 0.69905581 0.73444367 0.73444367\n",
      "  0.69905581 0.63331324 0.54610814 0.44822088]\n",
      " [0.51979489 0.63331324 0.73444367 0.81068432 0.85172308 0.85172308\n",
      "  0.81068432 0.73444367 0.63331324 0.51979489]\n",
      " [0.57375342 0.69905581 0.81068432 0.89483932 0.9401382  0.9401382\n",
      "  0.89483932 0.81068432 0.69905581 0.57375342]\n",
      " [0.60279818 0.73444367 0.85172308 0.9401382  0.98773022 0.98773022\n",
      "  0.9401382  0.85172308 0.73444367 0.60279818]\n",
      " [0.60279818 0.73444367 0.85172308 0.9401382  0.98773022 0.98773022\n",
      "  0.9401382  0.85172308 0.73444367 0.60279818]\n",
      " [0.57375342 0.69905581 0.81068432 0.89483932 0.9401382  0.9401382\n",
      "  0.89483932 0.81068432 0.69905581 0.57375342]\n",
      " [0.51979489 0.63331324 0.73444367 0.81068432 0.85172308 0.85172308\n",
      "  0.81068432 0.73444367 0.63331324 0.51979489]\n",
      " [0.44822088 0.54610814 0.63331324 0.69905581 0.73444367 0.73444367\n",
      "  0.69905581 0.63331324 0.54610814 0.44822088]\n",
      " [0.36787944 0.44822088 0.51979489 0.57375342 0.60279818 0.60279818\n",
      "  0.57375342 0.51979489 0.44822088 0.36787944]]\n"
     ]
    }
   ],
   "source": [
    "X, Y = np.meshgrid(np.linspace(-1,1,10), np.linspace(-1,1,10))\n",
    "D = np.sqrt(X*X+Y*Y)\n",
    "sigma, mu = 1.0, 0.0\n",
    "G = np.exp(-( (D-mu)**2 / ( 2.0 * sigma**2 ) ) )\n",
    "print(G)"
   ]
  },
  {
   "cell_type": "markdown",
   "metadata": {},
   "source": [
    "#### 57. How to randomly place p elements in a 2D array? (★★☆)"
   ]
  },
  {
   "cell_type": "code",
   "execution_count": 73,
   "metadata": {
    "tags": []
   },
   "outputs": [
    {
     "name": "stdout",
     "output_type": "stream",
     "text": [
      "[[0. 0. 0. 1. 0. 0. 0. 0. 0. 0.]\n",
      " [0. 0. 0. 0. 0. 0. 0. 0. 0. 0.]\n",
      " [0. 0. 0. 0. 0. 0. 0. 0. 0. 0.]\n",
      " [0. 0. 0. 0. 1. 0. 0. 0. 0. 0.]\n",
      " [0. 0. 0. 0. 0. 0. 0. 0. 0. 0.]\n",
      " [0. 0. 0. 0. 0. 0. 0. 0. 0. 0.]\n",
      " [0. 0. 0. 0. 0. 0. 0. 0. 0. 0.]\n",
      " [0. 0. 0. 0. 0. 0. 0. 0. 0. 0.]\n",
      " [0. 1. 0. 0. 0. 0. 0. 0. 0. 0.]\n",
      " [0. 0. 0. 0. 0. 0. 0. 0. 0. 0.]]\n"
     ]
    }
   ],
   "source": [
    "n = 10\n",
    "p = 3\n",
    "matrix = np.zeros((n,n))\n",
    "np.put(matrix, np.random.choice(range(n*n), p, replace=False),1)\n",
    "print(matrix)"
   ]
  },
  {
   "cell_type": "markdown",
   "metadata": {},
   "source": [
    "#### 58. Subtract the mean of each row of a matrix (★★☆)"
   ]
  },
  {
   "cell_type": "code",
   "execution_count": 74,
   "metadata": {
    "tags": []
   },
   "outputs": [
    {
     "name": "stdout",
     "output_type": "stream",
     "text": [
      "Mean value vector: [[0.37311431]\n",
      " [0.34516525]\n",
      " [0.44339594]\n",
      " [0.59056107]\n",
      " [0.50658493]]\n",
      "\n",
      "[[0.4369263  0.73555262 0.1025355  0.48795527 0.15534534 0.23515974\n",
      "  0.71078493 0.43567717 0.20355241 0.22765385]\n",
      " [0.92777038 0.19550233 0.14904466 0.08625208 0.33016279 0.30618641\n",
      "  0.37739261 0.09619414 0.37898007 0.604167  ]\n",
      " [0.15973369 0.16548704 0.74244205 0.59837146 0.22530716 0.00859324\n",
      "  0.56263307 0.51944199 0.49026462 0.96168504]\n",
      " [0.04107529 0.3324669  0.99518913 0.8441945  0.61239588 0.61204245\n",
      "  0.83782757 0.9768946  0.35503877 0.29848566]\n",
      " [0.2609847  0.602127   0.82168139 0.25696083 0.62375094 0.94980333\n",
      "  0.16851736 0.57131617 0.23589501 0.57481259]]\n",
      "\n",
      "[[ 0.06381198  0.3624383  -0.27057881  0.11484096 -0.21776897 -0.13795457\n",
      "   0.33767061  0.06256286 -0.1695619  -0.14546046]\n",
      " [ 0.58260513 -0.14966292 -0.19612059 -0.25891317 -0.01500245 -0.03897884\n",
      "   0.03222736 -0.2489711   0.03381483  0.25900176]\n",
      " [-0.28366225 -0.27790889  0.29904611  0.15497552 -0.21808878 -0.43480269\n",
      "   0.11923713  0.07604605  0.04686869  0.5182891 ]\n",
      " [-0.54948579 -0.25809417  0.40462806  0.25363342  0.02183481  0.02148138\n",
      "   0.24726649  0.38633352 -0.23552231 -0.29207541]\n",
      " [-0.24560023  0.09554206  0.31509646 -0.24962411  0.11716601  0.4432184\n",
      "  -0.33806757  0.06473124 -0.27068993  0.06822766]]\n"
     ]
    }
   ],
   "source": [
    "X = np.random.rand(5, 10)\n",
    "meanvalue = X.mean(axis=1, keepdims=True)\n",
    "print(f\"Mean value vector: {meanvalue}\")\n",
    "print()\n",
    "Y = X - meanvalue\n",
    "print(X)\n",
    "print()\n",
    "print(Y)\n"
   ]
  },
  {
   "cell_type": "markdown",
   "metadata": {},
   "source": [
    "#### 59. How to sort an array by the nth column? (★★☆)"
   ]
  },
  {
   "cell_type": "code",
   "execution_count": 75,
   "metadata": {
    "tags": []
   },
   "outputs": [
    {
     "name": "stdout",
     "output_type": "stream",
     "text": [
      "[[7 3 9]\n",
      " [3 0 1]\n",
      " [5 6 0]]\n",
      "\n",
      "[[3 0 1]\n",
      " [7 3 9]\n",
      " [5 6 0]]\n"
     ]
    }
   ],
   "source": [
    "vector = np.random.randint(0,10,(3,3))\n",
    "print(vector)\n",
    "print()\n",
    "print(vector[vector[:,1].argsort()])"
   ]
  },
  {
   "cell_type": "markdown",
   "metadata": {},
   "source": [
    "#### 60. How to tell if a given 2D array has null columns? (★★☆)"
   ]
  },
  {
   "cell_type": "code",
   "execution_count": 76,
   "metadata": {
    "tags": []
   },
   "outputs": [
    {
     "name": "stdout",
     "output_type": "stream",
     "text": [
      "[[0 1 0 1 1 1 1 0 0 1]\n",
      " [1 0 1 0 0 0 0 0 0 1]\n",
      " [1 1 0 0 1 1 0 1 1 1]\n",
      " [0 1 0 1 1 1 0 1 1 0]\n",
      " [1 1 1 1 1 1 1 0 0 1]]\n",
      "False\n"
     ]
    }
   ],
   "source": [
    "matrix = np.random.randint(0,2,(5,10))\n",
    "print(matrix)\n",
    "print((~matrix.any(axis=0)).any())"
   ]
  },
  {
   "cell_type": "markdown",
   "metadata": {},
   "source": [
    "#### 61. Find the nearest value from a given value in an array (★★☆)"
   ]
  },
  {
   "cell_type": "code",
   "execution_count": 77,
   "metadata": {
    "tags": []
   },
   "outputs": [
    {
     "name": "stdout",
     "output_type": "stream",
     "text": [
      "[0.1566618  0.0773784  0.09423861 0.24755835 0.84753927 0.69907948\n",
      " 0.61490251 0.73156738 0.16141879 0.00791062]\n",
      "\n",
      "0.5\n",
      "\n",
      "0.6149025126715455\n"
     ]
    }
   ],
   "source": [
    "matrix = np.random.uniform(0,1,10)\n",
    "print(matrix)\n",
    "givenValue = 0.5\n",
    "print()\n",
    "print(givenValue)\n",
    "print()\n",
    "nearestInArray = matrix.flat[np.abs(matrix - givenValue).argmin()]\n",
    "print(nearestInArray)"
   ]
  },
  {
   "cell_type": "markdown",
   "metadata": {},
   "source": [
    "#### 62. Considering two arrays with shape (1,3) and (3,1), how to compute their sum using an iterator? (★★☆)"
   ]
  },
  {
   "cell_type": "code",
   "execution_count": 78,
   "metadata": {
    "tags": []
   },
   "outputs": [
    {
     "name": "stdout",
     "output_type": "stream",
     "text": [
      "[[0 1 2]\n",
      " [1 2 3]\n",
      " [2 3 4]]\n"
     ]
    }
   ],
   "source": [
    "A = np.arange(3).reshape(3,1)\n",
    "B = np.arange(3).reshape(1,3)\n",
    "it = np.nditer([A,B,None])\n",
    "for x,y,z in it: z[...] = x + y\n",
    "print(it.operands[2])"
   ]
  },
  {
   "cell_type": "markdown",
   "metadata": {},
   "source": [
    "#### 63. Create an array class that has a name attribute (★★☆)"
   ]
  },
  {
   "cell_type": "code",
   "execution_count": 79,
   "metadata": {
    "tags": []
   },
   "outputs": [
    {
     "name": "stdout",
     "output_type": "stream",
     "text": [
      "MyArrayName\n"
     ]
    }
   ],
   "source": [
    "class ArrayWithName(np.ndarray):\n",
    "    def __new__(cls, array, name=\"no name\"):\n",
    "        obj = np.asarray(array).view(cls)\n",
    "        obj.name = name\n",
    "        return obj\n",
    "\n",
    "myArray = ArrayWithName(np.arange(10), \"MyArrayName\")\n",
    "print (myArray.name)"
   ]
  },
  {
   "cell_type": "markdown",
   "metadata": {},
   "source": [
    "#### 64. Consider a given vector, how to add 1 to each element indexed by a second vector (be careful with repeated indices)? (★★★)"
   ]
  },
  {
   "cell_type": "code",
   "execution_count": 80,
   "metadata": {
    "tags": []
   },
   "outputs": [
    {
     "name": "stdout",
     "output_type": "stream",
     "text": [
      "[1. 1. 1. 1. 1. 1. 1. 1. 1. 1.]\n",
      "[2 5 6 4 3 4 5 3 9 0 5 0 5 9 5 7 1 6 0 4]\n",
      "[4. 2. 2. 3. 4. 6. 3. 2. 1. 3.]\n"
     ]
    }
   ],
   "source": [
    "vector = np.ones(10)\n",
    "print(vector)\n",
    "indicesVec = np.random.randint(0,len(vector),20)\n",
    "print(indicesVec)\n",
    "vector += np.bincount(indicesVec, minlength=len(vector))\n",
    "print(vector)"
   ]
  },
  {
   "cell_type": "markdown",
   "metadata": {},
   "source": [
    "#### 65. How to accumulate elements of a vector (X) to an array (F) based on an index list (I)? (★★★)"
   ]
  },
  {
   "cell_type": "code",
   "execution_count": 81,
   "metadata": {
    "tags": []
   },
   "outputs": [
    {
     "name": "stdout",
     "output_type": "stream",
     "text": [
      "[0. 7. 0. 6. 5. 0. 0. 0. 0. 3.]\n"
     ]
    }
   ],
   "source": [
    "X = [1,2,3,4,5,6]\n",
    "I = [1,3,9,3,4,1]\n",
    "F = np.bincount(I,X)\n",
    "print(F)"
   ]
  },
  {
   "cell_type": "markdown",
   "metadata": {},
   "source": [
    "#### 66. Considering a (w,h,3) image of (dtype=ubyte), compute the number of unique colors (★★☆)"
   ]
  },
  {
   "cell_type": "code",
   "execution_count": 82,
   "metadata": {
    "tags": []
   },
   "outputs": [
    {
     "name": "stdout",
     "output_type": "stream",
     "text": [
      "64\n"
     ]
    }
   ],
   "source": [
    "w, h = 256, 256\n",
    "I = np.random.randint(0, 4, (h, w, 3)).astype(np.ubyte)\n",
    "colors = np.unique(I.reshape(-1, 3), axis=0)\n",
    "n = len(colors)\n",
    "print(n)"
   ]
  },
  {
   "cell_type": "markdown",
   "metadata": {},
   "source": [
    "#### 67. Considering a four dimensions array, how to get sum over the last two axis at once? (★★★)"
   ]
  },
  {
   "cell_type": "code",
   "execution_count": 83,
   "metadata": {
    "tags": []
   },
   "outputs": [
    {
     "name": "stdout",
     "output_type": "stream",
     "text": [
      "[[60 75 89 71]\n",
      " [67 68 86 75]\n",
      " [67 62 71 58]\n",
      " [67 78 66 86]]\n"
     ]
    }
   ],
   "source": [
    "A = np.random.randint(0,10,(4,4,4,4))\n",
    "sum = A.sum(axis=(-2,-1))\n",
    "print(sum)"
   ]
  },
  {
   "cell_type": "markdown",
   "metadata": {},
   "source": [
    "#### 68. Considering a one-dimensional vector D, how to compute means of subsets of D using a vector S of same size describing subset  indices? (★★★)"
   ]
  },
  {
   "cell_type": "code",
   "execution_count": 84,
   "metadata": {
    "tags": []
   },
   "outputs": [
    {
     "name": "stdout",
     "output_type": "stream",
     "text": [
      "[0.43485219 0.56033798 0.51656771 0.65245703 0.56416777 0.51222211\n",
      " 0.43363708 0.54470344 0.51623531 0.55895293]\n"
     ]
    }
   ],
   "source": [
    "D = np.random.uniform(0,1,100)\n",
    "S = np.random.randint(0,10,100)\n",
    "D_sums = np.bincount(S, weights=D)\n",
    "D_counts = np.bincount(S)\n",
    "D_means = D_sums / D_counts\n",
    "print(D_means)"
   ]
  },
  {
   "cell_type": "markdown",
   "metadata": {},
   "source": [
    "#### 69. How to get the diagonal of a dot product? (★★★)"
   ]
  },
  {
   "cell_type": "code",
   "execution_count": 85,
   "metadata": {
    "tags": []
   },
   "outputs": [
    {
     "name": "stdout",
     "output_type": "stream",
     "text": [
      "[[59.60416818 96.85709884 91.97104957 26.49211871 82.40128996]\n",
      " [33.73778174 60.8095778  30.05882679 44.24005668 59.26806816]\n",
      " [38.32252321 27.13414596 49.32898976 22.30598559 88.54696866]\n",
      " [ 1.42345373 81.98567052 98.1443341  15.21326184  3.2850984 ]\n",
      " [36.14010506 56.11391016 48.5114718  14.20031994 52.91466059]]\n",
      "\n",
      "[[84.26443796 68.74706909 10.15537336 67.35287931 73.04752839]\n",
      " [36.12466318 51.1431446  33.15743389 15.3822693  92.92323636]\n",
      " [ 8.96252     5.38318816 58.86437413 46.80086447  3.80522263]\n",
      " [46.15261729 17.82651284 93.77626468 30.42282135 79.16479136]\n",
      " [63.04461448  2.94510683 67.71612444 13.79766874 37.98785247]]\n",
      "\n",
      "[15763.3723499   6554.37569378 12280.427849    6458.39609585\n",
      " 11173.1081222 ]\n",
      "[15763.3723499   6554.37569378 12280.427849    6458.39609585\n",
      " 11173.1081222 ]\n"
     ]
    }
   ],
   "source": [
    "A = 100*np.random.uniform(0,1,(5,5))\n",
    "print(A)\n",
    "print()\n",
    "B = 100*np.random.uniform(0,1,(5,5))\n",
    "print(B)\n",
    "print()\n",
    "print(np.sum(A * B.T, axis=1))\n",
    "print(np.diag(np.dot(A, B)))\n"
   ]
  },
  {
   "cell_type": "markdown",
   "metadata": {},
   "source": [
    "#### 70. Consider the vector [1, 2, 3, 4, 5], how to build a new vector with 3 consecutive zeros interleaved between each value? (★★★)"
   ]
  },
  {
   "cell_type": "code",
   "execution_count": 86,
   "metadata": {
    "tags": []
   },
   "outputs": [
    {
     "name": "stdout",
     "output_type": "stream",
     "text": [
      "[1. 0. 0. 0. 2. 0. 0. 0. 3. 0. 0. 0. 4. 0. 0. 0. 5.]\n"
     ]
    }
   ],
   "source": [
    "Z = np.array([1,2,3,4,5])\n",
    "nz = 3\n",
    "Z0 = np.zeros(len(Z) + (len(Z)-1)*(nz))\n",
    "Z0[::nz+1] = Z\n",
    "print(Z0)"
   ]
  },
  {
   "cell_type": "markdown",
   "metadata": {},
   "source": [
    "#### 71. Consider an array of dimension (5,5,3), how to mulitply it by an array with dimensions (5,5)? (★★★)"
   ]
  },
  {
   "cell_type": "code",
   "execution_count": 87,
   "metadata": {
    "tags": []
   },
   "outputs": [
    {
     "name": "stdout",
     "output_type": "stream",
     "text": [
      "[[[2. 2. 2.]\n",
      "  [2. 2. 2.]\n",
      "  [2. 2. 2.]\n",
      "  [2. 2. 2.]\n",
      "  [2. 2. 2.]]\n",
      "\n",
      " [[2. 2. 2.]\n",
      "  [2. 2. 2.]\n",
      "  [2. 2. 2.]\n",
      "  [2. 2. 2.]\n",
      "  [2. 2. 2.]]\n",
      "\n",
      " [[2. 2. 2.]\n",
      "  [2. 2. 2.]\n",
      "  [2. 2. 2.]\n",
      "  [2. 2. 2.]\n",
      "  [2. 2. 2.]]\n",
      "\n",
      " [[2. 2. 2.]\n",
      "  [2. 2. 2.]\n",
      "  [2. 2. 2.]\n",
      "  [2. 2. 2.]\n",
      "  [2. 2. 2.]]\n",
      "\n",
      " [[2. 2. 2.]\n",
      "  [2. 2. 2.]\n",
      "  [2. 2. 2.]\n",
      "  [2. 2. 2.]\n",
      "  [2. 2. 2.]]]\n"
     ]
    }
   ],
   "source": [
    "A = np.ones((5,5,3))\n",
    "B = 2*np.ones((5,5))\n",
    "print(A * B[:,:,None])"
   ]
  },
  {
   "cell_type": "markdown",
   "metadata": {},
   "source": [
    "#### 72. How to swap two rows of an array? (★★★)"
   ]
  },
  {
   "cell_type": "code",
   "execution_count": 88,
   "metadata": {
    "tags": []
   },
   "outputs": [
    {
     "name": "stdout",
     "output_type": "stream",
     "text": [
      "[[20 21 22 23 24]\n",
      " [ 5  6  7  8  9]\n",
      " [10 11 12 13 14]\n",
      " [15 16 17 18 19]\n",
      " [ 0  1  2  3  4]]\n"
     ]
    }
   ],
   "source": [
    "A = np.arange(25).reshape(5,5)\n",
    "A[[0,4]] = A[[4,0]]\n",
    "print(A)"
   ]
  },
  {
   "cell_type": "markdown",
   "metadata": {},
   "source": [
    "#### 73. Consider a set of 10 triplets describing 10 triangles (with shared vertices), find the set of unique line segments composing all the  triangles (★★★)"
   ]
  },
  {
   "cell_type": "code",
   "execution_count": 89,
   "metadata": {
    "tags": []
   },
   "outputs": [
    {
     "name": "stdout",
     "output_type": "stream",
     "text": [
      "[( 0,  6) ( 0, 95) ( 6, 95) (14, 32) (14, 95) (23, 25) (23, 61) (24, 73)\n",
      " (24, 90) (25, 26) (25, 41) (25, 61) (26, 41) (32, 36) (32, 55) (32, 95)\n",
      " (36, 55) (45, 66) (45, 90) (47, 52) (47, 82) (52, 82) (59, 63) (59, 72)\n",
      " (63, 72) (66, 81) (66, 90) (73, 90) (81, 90)]\n"
     ]
    }
   ],
   "source": [
    "faces = np.random.randint(0,100,(10,3))\n",
    "F = np.roll(faces.repeat(2,axis=1),-1,axis=1)\n",
    "F = F.reshape(len(F)*3,2)\n",
    "F = np.sort(F,axis=1)\n",
    "G = F.view( dtype=[('p0',F.dtype),('p1',F.dtype)] )\n",
    "G = np.unique(G)\n",
    "print(G)"
   ]
  },
  {
   "cell_type": "markdown",
   "metadata": {},
   "source": [
    "#### 74. Given a sorted array C that corresponds to a bincount, how to produce an array A such that np.bincount(A) == C? (★★★)"
   ]
  },
  {
   "cell_type": "code",
   "execution_count": 90,
   "metadata": {
    "tags": []
   },
   "outputs": [
    {
     "name": "stdout",
     "output_type": "stream",
     "text": [
      "[1 1 2 3 4 4 6]\n"
     ]
    }
   ],
   "source": [
    "C = np.bincount([1,1,2,3,4,4,6])\n",
    "A = np.repeat(np.arange(len(C)), C)\n",
    "print(A)"
   ]
  },
  {
   "cell_type": "markdown",
   "metadata": {},
   "source": [
    "#### 75. How to compute averages using a sliding window over an array? (★★★)"
   ]
  },
  {
   "cell_type": "code",
   "execution_count": 91,
   "metadata": {
    "tags": []
   },
   "outputs": [
    {
     "name": "stdout",
     "output_type": "stream",
     "text": [
      "[ 1.5  2.5  3.5  4.5  5.5  6.5  7.5  8.5  9.5 10.5 11.5 12.5 13.5 14.5\n",
      " 15.5 16.5 17.5]\n"
     ]
    }
   ],
   "source": [
    "def moving_average(a, n) :\n",
    "    ret = np.cumsum(a, dtype=float)\n",
    "    ret[n:] = ret[n:] - ret[:-n]\n",
    "    return ret[n - 1:] / n\n",
    "\n",
    "vector = np.arange(20)\n",
    "print(moving_average(vector, n=4))"
   ]
  },
  {
   "cell_type": "markdown",
   "metadata": {},
   "source": [
    "#### 76. Consider a one-dimensional array Z, build a two-dimensional array whose first row is (Z[0],Z[1],Z[2]) and each subsequent row is  shifted by 1 (last row should be (Z[-3],Z[-2],Z[-1]) (★★★)"
   ]
  },
  {
   "cell_type": "code",
   "execution_count": 92,
   "metadata": {
    "tags": []
   },
   "outputs": [
    {
     "name": "stdout",
     "output_type": "stream",
     "text": [
      "[[0 1 2]\n",
      " [1 2 3]\n",
      " [2 3 4]\n",
      " [3 4 5]\n",
      " [4 5 6]\n",
      " [5 6 7]\n",
      " [6 7 8]\n",
      " [7 8 9]]\n"
     ]
    }
   ],
   "source": [
    "from numpy.lib import stride_tricks\n",
    "\n",
    "def rolling(a, window):\n",
    "    shape = (a.size - window + 1, window)\n",
    "    strides = (a.strides[0], a.strides[0])\n",
    "    return stride_tricks.as_strided(a, shape=shape, strides=strides)\n",
    "vector = rolling(np.arange(10), 3)\n",
    "print(vector)"
   ]
  },
  {
   "cell_type": "markdown",
   "metadata": {},
   "source": [
    "#### 77. How to negate a boolean, or to change the sign of a float inplace? (★★★)"
   ]
  },
  {
   "cell_type": "code",
   "execution_count": 93,
   "metadata": {
    "tags": []
   },
   "outputs": [
    {
     "name": "stdout",
     "output_type": "stream",
     "text": [
      "[ 0.15781333  0.9981882   0.17322368  0.37251481 -0.50490219 -0.13866537\n",
      "  0.74131923  0.59667772  0.40756432 -0.46235676]\n",
      "\n",
      "[-0.15781333 -0.9981882  -0.17322368 -0.37251481  0.50490219  0.13866537\n",
      " -0.74131923 -0.59667772 -0.40756432  0.46235676]\n"
     ]
    }
   ],
   "source": [
    "vector = np.random.uniform(-1.0,1.0,10)\n",
    "print(vector)\n",
    "print()\n",
    "print(np.negative(vector, out=vector))"
   ]
  },
  {
   "cell_type": "markdown",
   "metadata": {},
   "source": [
    "#### 78. Consider 2 sets of points P0,P1 describing lines (2d) and a point p, how to compute distance from p to each line i (P0[i],P1[i])? (★★★)"
   ]
  },
  {
   "cell_type": "code",
   "execution_count": 94,
   "metadata": {
    "tags": []
   },
   "outputs": [
    {
     "name": "stdout",
     "output_type": "stream",
     "text": [
      "[ 6.66649925 10.0919383  14.8846268   0.14524873  8.54314853  3.24686287\n",
      "  0.50998899  9.87500113  0.33222425  4.2039835 ]\n"
     ]
    }
   ],
   "source": [
    "def distance(P0, P1, p):\n",
    "    T = P1 - P0\n",
    "    L = (T**2).sum(axis=1)\n",
    "    U = -((P0[:,0]-p[...,0])*T[:,0] + (P0[:,1]-p[...,1])*T[:,1]) / L\n",
    "    U = U.reshape(len(U),1)\n",
    "    D = P0 + U*T - p\n",
    "    return np.sqrt((D**2).sum(axis=1))\n",
    "\n",
    "P0 = np.random.uniform(-10,10,(10,2))\n",
    "P1 = np.random.uniform(-10,10,(10,2))\n",
    "p  = np.random.uniform(-10,10,( 1,2))\n",
    "print(distance(P0, P1, p))"
   ]
  },
  {
   "cell_type": "markdown",
   "metadata": {},
   "source": [
    "#### 79. Consider 2 sets of points P0,P1 describing lines (2d) and a set of points P, how to compute distance from each point j (P[j]) to each line i (P0[i],P1[i])? (★★★)"
   ]
  },
  {
   "cell_type": "code",
   "execution_count": 98,
   "metadata": {
    "tags": []
   },
   "outputs": [
    {
     "name": "stdout",
     "output_type": "stream",
     "text": [
      "[[15.90706955  0.04680512 21.83989039  3.95518105 16.49410638  4.30224329\n",
      "  12.54800569  0.14360481  3.02377492 12.99540121]\n",
      " [ 6.2045868   7.15399375 12.75134544  0.39830251 10.97925723  5.48536207\n",
      "   4.48840075  6.3224302   7.87156407  3.45896099]\n",
      " [ 9.92515181  0.52409336 15.41337515  2.19547038 10.04768871  1.56560811\n",
      "   5.87844878  0.20402065  1.61924341  9.53977121]\n",
      " [ 2.90885748  0.91124672  7.8155065   9.66278234  2.26415178  8.43595185\n",
      "   2.06855107  0.91527998  0.34893055  5.66358192]\n",
      " [ 1.21780606  5.3822792   4.24961826 10.25239453  1.02759229 12.65945161\n",
      "   4.87738442  3.22609406  3.31234329  0.72510893]\n",
      " [13.79300395  0.96017591 19.33143907  0.78224693 13.33778395  2.27649687\n",
      "   9.7007463   1.17752389  1.26101952 12.47284013]\n",
      " [ 2.57770143  7.80711159  8.920211    3.85241908  7.31246781  9.05630364\n",
      "   0.57953148  6.4415274   7.36859906  1.1714463 ]\n",
      " [ 0.56305372  9.06896781  5.75072706  6.21964741  4.68543454 12.17858867\n",
      "   2.4993501   7.29285433  7.72376698  1.24571786]\n",
      " [14.80709711  5.41121957 19.49446954  2.07677968 11.00190676  3.45870626\n",
      "   8.91742057  5.79750231  3.44572021 15.78684308]\n",
      " [ 7.31242189  4.7839673  11.42403576  9.8617313   2.85595474  3.88926726\n",
      "   0.52251957  6.32762067  5.30539965 11.5124736 ]]\n"
     ]
    }
   ],
   "source": [
    "P0 = np.random.uniform(-10, 10, (10,2))\n",
    "P1 = np.random.uniform(-10,10,(10,2))\n",
    "p = np.random.uniform(-10, 10, (10,2))\n",
    "print(np.array([distance(P0,P1,p_i) for p_i in p]))"
   ]
  },
  {
   "cell_type": "markdown",
   "metadata": {
    "jp-MarkdownHeadingCollapsed": true,
    "tags": []
   },
   "source": [
    "#### 80. Consider an arbitrary array, write a function that extract a subpart with a fixed shape and centered on a given element (pad with a `fill` value when necessary) (★★★)"
   ]
  },
  {
   "cell_type": "code",
   "execution_count": 99,
   "metadata": {},
   "outputs": [
    {
     "name": "stdout",
     "output_type": "stream",
     "text": [
      "[[7 2 7 4 8 3 1 1 9 1]\n",
      " [2 3 0 4 0 7 5 5 3 8]\n",
      " [8 9 6 6 3 7 9 8 0 7]\n",
      " [3 5 6 4 6 8 1 6 1 8]\n",
      " [4 1 0 7 5 8 2 3 3 6]\n",
      " [7 9 0 9 0 4 0 2 6 5]\n",
      " [9 7 5 9 7 9 0 1 1 7]\n",
      " [7 1 9 1 9 8 2 3 9 7]\n",
      " [6 1 1 0 3 0 4 7 6 4]\n",
      " [4 3 1 7 7 7 0 4 1 9]]\n",
      "[[0 0 0 0 0]\n",
      " [0 7 2 7 4]\n",
      " [0 2 3 0 4]\n",
      " [0 8 9 6 6]\n",
      " [0 3 5 6 4]]\n"
     ]
    },
    {
     "name": "stderr",
     "output_type": "stream",
     "text": [
      "/opt/sagemath-9.2/local/lib/python3.7/site-packages/ipykernel_launcher.py:23: FutureWarning: Using a non-tuple sequence for multidimensional indexing is deprecated; use `arr[tuple(seq)]` instead of `arr[seq]`. In the future this will be interpreted as an array index, `arr[np.array(seq)]`, which will result either in an error or a different result.\n"
     ]
    }
   ],
   "source": [
    "Z = np.random.randint(0,10,(10,10))\n",
    "shape = (5,5)\n",
    "fill  = 0\n",
    "position = (1,1)\n",
    "\n",
    "R = np.ones(shape, dtype=Z.dtype)*fill\n",
    "P  = np.array(list(position)).astype(int)\n",
    "Rs = np.array(list(R.shape)).astype(int)\n",
    "Zs = np.array(list(Z.shape)).astype(int)\n",
    "\n",
    "R_start = np.zeros((len(shape),)).astype(int)\n",
    "R_stop  = np.array(list(shape)).astype(int)\n",
    "Z_start = (P-Rs//2)\n",
    "Z_stop  = (P+Rs//2)+Rs%2\n",
    "\n",
    "R_start = (R_start - np.minimum(Z_start,0)).tolist()\n",
    "Z_start = (np.maximum(Z_start,0)).tolist()\n",
    "R_stop = np.maximum(R_start, (R_stop - np.maximum(Z_stop-Zs,0))).tolist()\n",
    "Z_stop = (np.minimum(Z_stop,Zs)).tolist()\n",
    "\n",
    "r = [slice(start,stop) for start,stop in zip(R_start,R_stop)]\n",
    "z = [slice(start,stop) for start,stop in zip(Z_start,Z_stop)]\n",
    "R[r] = Z[z]\n",
    "print(Z)\n",
    "print(R)"
   ]
  },
  {
   "cell_type": "markdown",
   "metadata": {},
   "source": [
    "#### 81. Consider an array Z = [1,2,3,4,5,6,7,8,9,10,11,12,13,14], how to generate an array R = [[1,2,3,4], [2,3,4,5], [3,4,5,6], ..., [11,12,13,14]]? (★★★)"
   ]
  },
  {
   "cell_type": "code",
   "execution_count": 100,
   "metadata": {
    "tags": []
   },
   "outputs": [
    {
     "name": "stdout",
     "output_type": "stream",
     "text": [
      "[[ 1  2  3  4]\n",
      " [ 2  3  4  5]\n",
      " [ 3  4  5  6]\n",
      " [ 4  5  6  7]\n",
      " [ 5  6  7  8]\n",
      " [ 6  7  8  9]\n",
      " [ 7  8  9 10]\n",
      " [ 8  9 10 11]\n",
      " [ 9 10 11 12]\n",
      " [10 11 12 13]\n",
      " [11 12 13 14]]\n"
     ]
    }
   ],
   "source": [
    "vector = np.arange(1,15,dtype=np.uint32)\n",
    "stridedMatrix = stride_tricks.as_strided(vector,(11,4),(4,4))\n",
    "print(stridedMatrix)"
   ]
  },
  {
   "cell_type": "markdown",
   "metadata": {},
   "source": [
    "#### 82. Compute a matrix rank (★★★)"
   ]
  },
  {
   "cell_type": "code",
   "execution_count": 101,
   "metadata": {
    "tags": []
   },
   "outputs": [
    {
     "name": "stdout",
     "output_type": "stream",
     "text": [
      "10\n"
     ]
    }
   ],
   "source": [
    "matrix = np.random.uniform(0,1,(10,10))\n",
    "rank = np.linalg.matrix_rank(matrix)\n",
    "print(rank)"
   ]
  },
  {
   "cell_type": "markdown",
   "metadata": {},
   "source": [
    "#### 83. How to find the most frequent value in an array?"
   ]
  },
  {
   "cell_type": "code",
   "execution_count": 102,
   "metadata": {
    "tags": []
   },
   "outputs": [
    {
     "name": "stdout",
     "output_type": "stream",
     "text": [
      "8\n"
     ]
    }
   ],
   "source": [
    "vector = np.random.randint(0,10,50)\n",
    "print(np.bincount(vector).argmax())"
   ]
  },
  {
   "cell_type": "markdown",
   "metadata": {},
   "source": [
    "#### 84. Extract all the contiguous 3x3 blocks from a random 10x10 matrix (★★★)"
   ]
  },
  {
   "cell_type": "code",
   "execution_count": 106,
   "metadata": {
    "tags": []
   },
   "outputs": [
    {
     "name": "stdout",
     "output_type": "stream",
     "text": [
      "[[[[0 1 4]\n",
      "   [4 2 2]\n",
      "   [4 4 1]]\n",
      "\n",
      "  [[1 4 0]\n",
      "   [2 2 4]\n",
      "   [4 1 0]]\n",
      "\n",
      "  [[4 0 1]\n",
      "   [2 4 0]\n",
      "   [1 0 1]]\n",
      "\n",
      "  [[0 1 2]\n",
      "   [4 0 1]\n",
      "   [0 1 0]]\n",
      "\n",
      "  [[1 2 4]\n",
      "   [0 1 1]\n",
      "   [1 0 2]]\n",
      "\n",
      "  [[2 4 4]\n",
      "   [1 1 1]\n",
      "   [0 2 2]]\n",
      "\n",
      "  [[4 4 1]\n",
      "   [1 1 1]\n",
      "   [2 2 4]]\n",
      "\n",
      "  [[4 1 2]\n",
      "   [1 1 3]\n",
      "   [2 4 0]]]\n",
      "\n",
      "\n",
      " [[[4 2 2]\n",
      "   [4 4 1]\n",
      "   [2 2 4]]\n",
      "\n",
      "  [[2 2 4]\n",
      "   [4 1 0]\n",
      "   [2 4 1]]\n",
      "\n",
      "  [[2 4 0]\n",
      "   [1 0 1]\n",
      "   [4 1 0]]\n",
      "\n",
      "  [[4 0 1]\n",
      "   [0 1 0]\n",
      "   [1 0 2]]\n",
      "\n",
      "  [[0 1 1]\n",
      "   [1 0 2]\n",
      "   [0 2 3]]\n",
      "\n",
      "  [[1 1 1]\n",
      "   [0 2 2]\n",
      "   [2 3 0]]\n",
      "\n",
      "  [[1 1 1]\n",
      "   [2 2 4]\n",
      "   [3 0 0]]\n",
      "\n",
      "  [[1 1 3]\n",
      "   [2 4 0]\n",
      "   [0 0 0]]]\n",
      "\n",
      "\n",
      " [[[4 4 1]\n",
      "   [2 2 4]\n",
      "   [2 3 1]]\n",
      "\n",
      "  [[4 1 0]\n",
      "   [2 4 1]\n",
      "   [3 1 2]]\n",
      "\n",
      "  [[1 0 1]\n",
      "   [4 1 0]\n",
      "   [1 2 4]]\n",
      "\n",
      "  [[0 1 0]\n",
      "   [1 0 2]\n",
      "   [2 4 2]]\n",
      "\n",
      "  [[1 0 2]\n",
      "   [0 2 3]\n",
      "   [4 2 3]]\n",
      "\n",
      "  [[0 2 2]\n",
      "   [2 3 0]\n",
      "   [2 3 2]]\n",
      "\n",
      "  [[2 2 4]\n",
      "   [3 0 0]\n",
      "   [3 2 1]]\n",
      "\n",
      "  [[2 4 0]\n",
      "   [0 0 0]\n",
      "   [2 1 2]]]\n",
      "\n",
      "\n",
      " [[[2 2 4]\n",
      "   [2 3 1]\n",
      "   [2 2 2]]\n",
      "\n",
      "  [[2 4 1]\n",
      "   [3 1 2]\n",
      "   [2 2 0]]\n",
      "\n",
      "  [[4 1 0]\n",
      "   [1 2 4]\n",
      "   [2 0 1]]\n",
      "\n",
      "  [[1 0 2]\n",
      "   [2 4 2]\n",
      "   [0 1 0]]\n",
      "\n",
      "  [[0 2 3]\n",
      "   [4 2 3]\n",
      "   [1 0 2]]\n",
      "\n",
      "  [[2 3 0]\n",
      "   [2 3 2]\n",
      "   [0 2 0]]\n",
      "\n",
      "  [[3 0 0]\n",
      "   [3 2 1]\n",
      "   [2 0 0]]\n",
      "\n",
      "  [[0 0 0]\n",
      "   [2 1 2]\n",
      "   [0 0 2]]]\n",
      "\n",
      "\n",
      " [[[2 3 1]\n",
      "   [2 2 2]\n",
      "   [3 1 2]]\n",
      "\n",
      "  [[3 1 2]\n",
      "   [2 2 0]\n",
      "   [1 2 2]]\n",
      "\n",
      "  [[1 2 4]\n",
      "   [2 0 1]\n",
      "   [2 2 2]]\n",
      "\n",
      "  [[2 4 2]\n",
      "   [0 1 0]\n",
      "   [2 2 3]]\n",
      "\n",
      "  [[4 2 3]\n",
      "   [1 0 2]\n",
      "   [2 3 2]]\n",
      "\n",
      "  [[2 3 2]\n",
      "   [0 2 0]\n",
      "   [3 2 1]]\n",
      "\n",
      "  [[3 2 1]\n",
      "   [2 0 0]\n",
      "   [2 1 4]]\n",
      "\n",
      "  [[2 1 2]\n",
      "   [0 0 2]\n",
      "   [1 4 0]]]\n",
      "\n",
      "\n",
      " [[[2 2 2]\n",
      "   [3 1 2]\n",
      "   [3 2 3]]\n",
      "\n",
      "  [[2 2 0]\n",
      "   [1 2 2]\n",
      "   [2 3 3]]\n",
      "\n",
      "  [[2 0 1]\n",
      "   [2 2 2]\n",
      "   [3 3 0]]\n",
      "\n",
      "  [[0 1 0]\n",
      "   [2 2 3]\n",
      "   [3 0 4]]\n",
      "\n",
      "  [[1 0 2]\n",
      "   [2 3 2]\n",
      "   [0 4 3]]\n",
      "\n",
      "  [[0 2 0]\n",
      "   [3 2 1]\n",
      "   [4 3 1]]\n",
      "\n",
      "  [[2 0 0]\n",
      "   [2 1 4]\n",
      "   [3 1 4]]\n",
      "\n",
      "  [[0 0 2]\n",
      "   [1 4 0]\n",
      "   [1 4 4]]]\n",
      "\n",
      "\n",
      " [[[3 1 2]\n",
      "   [3 2 3]\n",
      "   [4 4 4]]\n",
      "\n",
      "  [[1 2 2]\n",
      "   [2 3 3]\n",
      "   [4 4 1]]\n",
      "\n",
      "  [[2 2 2]\n",
      "   [3 3 0]\n",
      "   [4 1 3]]\n",
      "\n",
      "  [[2 2 3]\n",
      "   [3 0 4]\n",
      "   [1 3 0]]\n",
      "\n",
      "  [[2 3 2]\n",
      "   [0 4 3]\n",
      "   [3 0 1]]\n",
      "\n",
      "  [[3 2 1]\n",
      "   [4 3 1]\n",
      "   [0 1 3]]\n",
      "\n",
      "  [[2 1 4]\n",
      "   [3 1 4]\n",
      "   [1 3 0]]\n",
      "\n",
      "  [[1 4 0]\n",
      "   [1 4 4]\n",
      "   [3 0 4]]]\n",
      "\n",
      "\n",
      " [[[3 2 3]\n",
      "   [4 4 4]\n",
      "   [3 1 4]]\n",
      "\n",
      "  [[2 3 3]\n",
      "   [4 4 1]\n",
      "   [1 4 0]]\n",
      "\n",
      "  [[3 3 0]\n",
      "   [4 1 3]\n",
      "   [4 0 3]]\n",
      "\n",
      "  [[3 0 4]\n",
      "   [1 3 0]\n",
      "   [0 3 1]]\n",
      "\n",
      "  [[0 4 3]\n",
      "   [3 0 1]\n",
      "   [3 1 1]]\n",
      "\n",
      "  [[4 3 1]\n",
      "   [0 1 3]\n",
      "   [1 1 3]]\n",
      "\n",
      "  [[3 1 4]\n",
      "   [1 3 0]\n",
      "   [1 3 0]]\n",
      "\n",
      "  [[1 4 4]\n",
      "   [3 0 4]\n",
      "   [3 0 1]]]]\n"
     ]
    }
   ],
   "source": [
    "Z = np.random.randint(0,5,(10,10))\n",
    "n = 3\n",
    "i = 1 + (Z.shape[0]-3)\n",
    "j = 1 + (Z.shape[1]-3)\n",
    "C = np.lib.stride_tricks.as_strided(Z, shape=(i, j, n, n), strides=Z.strides + Z.strides)\n",
    "print(C)"
   ]
  },
  {
   "cell_type": "markdown",
   "metadata": {},
   "source": [
    "#### 85. Create a 2D array subclass such that Z[i,j] == Z[j,i] (★★★)"
   ]
  },
  {
   "cell_type": "code",
   "execution_count": 107,
   "metadata": {
    "tags": []
   },
   "outputs": [
    {
     "name": "stdout",
     "output_type": "stream",
     "text": [
      "[[ 9 10  4 13  3]\n",
      " [10  3  8  6 10]\n",
      " [ 4  8  1 42  5]\n",
      " [13  6 42  4 16]\n",
      " [ 3 10  5 16  9]]\n"
     ]
    }
   ],
   "source": [
    "class Symetric(np.ndarray):\n",
    "    def __setitem__(self, index, value):\n",
    "        i,j = index\n",
    "        super(Symetric, self).__setitem__((i,j), value)\n",
    "        super(Symetric, self).__setitem__((j,i), value)\n",
    "\n",
    "def symetric(Z):\n",
    "    return np.asarray(Z + Z.T - np.diag(Z.diagonal())).view(Symetric)\n",
    "\n",
    "S = symetric(np.random.randint(0,10,(5,5)))\n",
    "S[2,3] = 42\n",
    "print(S)"
   ]
  },
  {
   "cell_type": "markdown",
   "metadata": {},
   "source": [
    "#### 86. Consider a set of p matrices wich shape (n,n) and a set of p vectors with shape (n,1). How to compute the sum of of the p matrix products at once? (result has shape (n,1)) (★★★)"
   ]
  },
  {
   "cell_type": "code",
   "execution_count": 108,
   "metadata": {
    "tags": []
   },
   "outputs": [
    {
     "name": "stdout",
     "output_type": "stream",
     "text": [
      "[[200.]\n",
      " [200.]\n",
      " [200.]\n",
      " [200.]\n",
      " [200.]\n",
      " [200.]\n",
      " [200.]\n",
      " [200.]\n",
      " [200.]\n",
      " [200.]\n",
      " [200.]\n",
      " [200.]\n",
      " [200.]\n",
      " [200.]\n",
      " [200.]\n",
      " [200.]\n",
      " [200.]\n",
      " [200.]\n",
      " [200.]\n",
      " [200.]]\n"
     ]
    }
   ],
   "source": [
    "p, n = 10, 20\n",
    "M = np.ones((p,n,n))\n",
    "V = np.ones((p,n,1))\n",
    "S = np.tensordot(M, V, axes=[[0, 2], [0, 1]])\n",
    "print(S)"
   ]
  },
  {
   "cell_type": "markdown",
   "metadata": {},
   "source": [
    "#### 87. Consider a 16x16 array, how to get the block-sum (block size is 4x4)? (★★★)"
   ]
  },
  {
   "cell_type": "code",
   "execution_count": 109,
   "metadata": {
    "tags": []
   },
   "outputs": [
    {
     "name": "stdout",
     "output_type": "stream",
     "text": [
      "[[16. 16. 16. 16.]\n",
      " [16. 16. 16. 16.]\n",
      " [16. 16. 16. 16.]\n",
      " [16. 16. 16. 16.]]\n"
     ]
    }
   ],
   "source": [
    "vector = np.ones((16,16))\n",
    "k = 4\n",
    "S = np.add.reduceat(np.add.reduceat(vector, np.arange(0, vector.shape[0], k), axis=0),\n",
    "                                       np.arange(0, vector.shape[1], k), axis=1)\n",
    "print(S)"
   ]
  },
  {
   "cell_type": "markdown",
   "metadata": {},
   "source": [
    "#### 88. How to implement the Game of Life using numpy arrays? (★★★)"
   ]
  },
  {
   "cell_type": "code",
   "execution_count": 110,
   "metadata": {
    "tags": []
   },
   "outputs": [
    {
     "name": "stdout",
     "output_type": "stream",
     "text": [
      "[[0 0 0 ... 0 0 0]\n",
      " [0 0 0 ... 0 0 0]\n",
      " [0 0 0 ... 0 0 0]\n",
      " ...\n",
      " [0 0 0 ... 0 0 0]\n",
      " [0 0 0 ... 0 0 0]\n",
      " [0 0 0 ... 0 0 0]]\n"
     ]
    }
   ],
   "source": [
    "def iterate(vector):\n",
    "    N = (vector[0:-2,0:-2] + vector[0:-2,1:-1] + vector[0:-2,2:] +\n",
    "         vector[1:-1,0:-2]                + vector[1:-1,2:] +\n",
    "         vector[2:  ,0:-2] + vector[2:  ,1:-1] + vector[2:  ,2:])\n",
    "\n",
    "    birth = (N==3) & (vector[1:-1,1:-1]==0)\n",
    "    survive = ((N==2) | (N==3)) & (vector[1:-1,1:-1]==1)\n",
    "    vector[...] = 0\n",
    "    vector[1:-1,1:-1][birth | survive] = 1\n",
    "    return vector\n",
    "\n",
    "vector = np.random.randint(0,2,(50,50))\n",
    "for i in range(100): vector = iterate(vector)\n",
    "print(vector)"
   ]
  },
  {
   "cell_type": "markdown",
   "metadata": {},
   "source": [
    "#### 89. How to get the n largest values of an array (★★★)"
   ]
  },
  {
   "cell_type": "code",
   "execution_count": 111,
   "metadata": {
    "tags": []
   },
   "outputs": [
    {
     "name": "stdout",
     "output_type": "stream",
     "text": [
      "[9990 9991 9992 9993 9994 9995 9996 9997 9998 9999]\n",
      "[9992 9996 9993 9998 9991 9994 9995 9997 9999 9990]\n"
     ]
    }
   ],
   "source": [
    "vector = np.arange(10000)\n",
    "np.random.shuffle(Z)\n",
    "n = 10\n",
    "print(vector[np.argsort(vector)[-n:]])\n",
    "print(vector[np.argpartition(-vector,n)[:n]])"
   ]
  },
  {
   "cell_type": "markdown",
   "metadata": {},
   "source": [
    "#### 90. Given an arbitrary number of vectors, build the cartesian product (every combinations of every item) (★★★)"
   ]
  },
  {
   "cell_type": "code",
   "execution_count": 112,
   "metadata": {
    "tags": []
   },
   "outputs": [
    {
     "name": "stdout",
     "output_type": "stream",
     "text": [
      "[[1 4 6]\n",
      " [1 4 7]\n",
      " [1 5 6]\n",
      " [1 5 7]\n",
      " [2 4 6]\n",
      " [2 4 7]\n",
      " [2 5 6]\n",
      " [2 5 7]\n",
      " [3 4 6]\n",
      " [3 4 7]\n",
      " [3 5 6]\n",
      " [3 5 7]]\n"
     ]
    }
   ],
   "source": [
    "def cartesian(arrays):\n",
    "    arrays = [np.asarray(a) for a in arrays]\n",
    "    shape = (len(x) for x in arrays)\n",
    "\n",
    "    ix = np.indices(shape, dtype=int)\n",
    "    ix = ix.reshape(len(arrays), -1).T\n",
    "\n",
    "    for n, arr in enumerate(arrays):\n",
    "        ix[:, n] = arrays[n][ix[:, n]]\n",
    "\n",
    "    return ix\n",
    "\n",
    "print (cartesian(([1, 2, 3], [4, 5], [6, 7])))"
   ]
  },
  {
   "cell_type": "markdown",
   "metadata": {},
   "source": [
    "#### 91. How to create a record array from a regular array? (★★★)"
   ]
  },
  {
   "cell_type": "code",
   "execution_count": 113,
   "metadata": {
    "tags": []
   },
   "outputs": [
    {
     "name": "stdout",
     "output_type": "stream",
     "text": [
      "[(b'Hello', 2.5, 3) (b'World', 3.6, 2)]\n"
     ]
    }
   ],
   "source": [
    "vector = np.array([(\"Hello\", 2.5, 3),\n",
    "              (\"World\", 3.6, 2)])\n",
    "record = np.core.records.fromarrays(vector.T,\n",
    "                               names='col1, col2, col3',\n",
    "                               formats = 'S8, f8, i8')\n",
    "print(record)"
   ]
  },
  {
   "cell_type": "markdown",
   "metadata": {},
   "source": [
    "#### 92. Consider a large vector Z, compute Z to the power of 3 using 3 different methods (★★★)"
   ]
  },
  {
   "cell_type": "code",
   "execution_count": 114,
   "metadata": {
    "tags": []
   },
   "outputs": [
    {
     "name": "stdout",
     "output_type": "stream",
     "text": [
      "117 ms ± 1.24 ms per loop (mean ± std. dev. of 7 runs, 10 loops each)\n",
      "49.1 ms ± 1.06 ms per loop (mean ± std. dev. of 7 runs, 10 loops each)\n",
      "27.7 ms ± 1.43 ms per loop (mean ± std. dev. of 7 runs, 10 loops each)\n"
     ]
    }
   ],
   "source": [
    "x = np.random.rand(int(5e6))\n",
    "\n",
    "%timeit np.power(x,3)\n",
    "%timeit x*x*x\n",
    "%timeit np.einsum('i,i,i->i',x,x,x)"
   ]
  },
  {
   "cell_type": "markdown",
   "metadata": {},
   "source": [
    "#### 93. Consider two arrays A and B of shape (8,3) and (2,2). How to find rows of A that contain elements of each row of B regardless of the order of the elements in B? (★★★)"
   ]
  },
  {
   "cell_type": "code",
   "execution_count": 115,
   "metadata": {
    "tags": []
   },
   "outputs": [
    {
     "name": "stdout",
     "output_type": "stream",
     "text": [
      "[1 2 5 7]\n"
     ]
    }
   ],
   "source": [
    "A = np.random.randint(0,5,(8,3))\n",
    "B = np.random.randint(0,5,(2,2))\n",
    "\n",
    "C = (A[..., np.newaxis, np.newaxis] == B)\n",
    "rows = np.where(C.any((3,1)).all(1))[0]\n",
    "print(rows)"
   ]
  },
  {
   "cell_type": "markdown",
   "metadata": {},
   "source": [
    "#### 94. Considering a 10x3 matrix, extract rows with unequal values (e.g. [2,2,3]) (★★★)"
   ]
  },
  {
   "cell_type": "code",
   "execution_count": 116,
   "metadata": {
    "tags": []
   },
   "outputs": [
    {
     "name": "stdout",
     "output_type": "stream",
     "text": [
      "[[0 2 0]\n",
      " [2 1 0]\n",
      " [3 1 2]\n",
      " [2 0 1]\n",
      " [0 3 0]\n",
      " [2 1 0]\n",
      " [4 4 2]\n",
      " [0 2 4]\n",
      " [4 0 0]\n",
      " [2 1 3]]\n",
      "[[0 2 0]\n",
      " [2 1 0]\n",
      " [3 1 2]\n",
      " [2 0 1]\n",
      " [0 3 0]\n",
      " [2 1 0]\n",
      " [4 4 2]\n",
      " [0 2 4]\n",
      " [4 0 0]\n",
      " [2 1 3]]\n",
      "[[0 2 0]\n",
      " [2 1 0]\n",
      " [3 1 2]\n",
      " [2 0 1]\n",
      " [0 3 0]\n",
      " [2 1 0]\n",
      " [4 4 2]\n",
      " [0 2 4]\n",
      " [4 0 0]\n",
      " [2 1 3]]\n"
     ]
    }
   ],
   "source": [
    "matrix = np.random.randint(0,5,(10,3))\n",
    "print(matrix)\n",
    "\n",
    "E = np.all(matrix[:,1:] == matrix[:,:-1], axis=1)\n",
    "U = matrix[~E]\n",
    "print(U)\n",
    "U = matrix[matrix.max(axis=1) != matrix.min(axis=1),:]\n",
    "print(U)"
   ]
  },
  {
   "cell_type": "markdown",
   "metadata": {},
   "source": [
    "#### 95. Convert a vector of ints into a matrix binary representation (★★★)"
   ]
  },
  {
   "cell_type": "code",
   "execution_count": 117,
   "metadata": {
    "tags": []
   },
   "outputs": [
    {
     "name": "stdout",
     "output_type": "stream",
     "text": [
      "[[0 0 0 0 0 0 0 0]\n",
      " [0 0 0 0 0 0 0 1]\n",
      " [0 0 0 0 0 0 1 0]\n",
      " [0 0 0 0 0 0 1 1]\n",
      " [0 0 0 0 1 1 1 1]\n",
      " [0 0 0 1 0 0 0 0]\n",
      " [0 0 1 0 0 0 0 0]\n",
      " [0 1 0 0 0 0 0 0]\n",
      " [1 0 0 0 0 0 0 0]]\n"
     ]
    }
   ],
   "source": [
    "intVector = np.array([0, 1, 2, 3, 15, 16, 32, 64, 128], dtype=np.uint8)\n",
    "print(np.unpackbits(intVector[:, np.newaxis], axis=1))"
   ]
  },
  {
   "cell_type": "markdown",
   "metadata": {},
   "source": [
    "#### 96. Given a two dimensional array, how to extract unique rows? (★★★)"
   ]
  },
  {
   "cell_type": "code",
   "execution_count": 118,
   "metadata": {
    "tags": []
   },
   "outputs": [
    {
     "name": "stdout",
     "output_type": "stream",
     "text": [
      "[[0 0 1]\n",
      " [0 1 0]\n",
      " [1 0 0]\n",
      " [1 1 0]]\n"
     ]
    }
   ],
   "source": [
    "matrix = np.random.randint(0,2,(6,3))\n",
    "uniqueMatrix = np.unique(matrix, axis=0)\n",
    "print(uniqueMatrix)"
   ]
  },
  {
   "cell_type": "markdown",
   "metadata": {},
   "source": [
    "#### 97. Considering 2 vectors A & B, write the einsum equivalent of inner, outer, sum, and mul function (★★★)"
   ]
  },
  {
   "cell_type": "code",
   "execution_count": 119,
   "metadata": {
    "tags": []
   },
   "outputs": [
    {
     "data": {
      "text/plain": [
       "array([[0.11704316, 0.01514475, 0.00264706, 0.10915846, 0.10063628,\n",
       "        0.15922311, 0.11872288, 0.08155429, 0.07213661, 0.06927522],\n",
       "       [0.32504658, 0.04205927, 0.0073513 , 0.30314958, 0.27948219,\n",
       "        0.44218668, 0.32971142, 0.22648862, 0.20033428, 0.19238777],\n",
       "       [0.53048154, 0.06864144, 0.01199744, 0.49474527, 0.45611969,\n",
       "        0.72165619, 0.53809464, 0.36963328, 0.32694896, 0.31398011],\n",
       "       [0.63586711, 0.08227776, 0.01438086, 0.59303146, 0.54673252,\n",
       "        0.86502054, 0.64499263, 0.4430647 , 0.3919007 , 0.37635545],\n",
       "       [0.44920341, 0.05812449, 0.01015925, 0.41894249, 0.38623497,\n",
       "        0.61108708, 0.45565006, 0.31299964, 0.27685522, 0.2658734 ],\n",
       "       [0.0549556 , 0.00711096, 0.00124288, 0.05125348, 0.04725204,\n",
       "        0.07476048, 0.05574429, 0.03829242, 0.0338705 , 0.03252699],\n",
       "       [0.56534716, 0.07315287, 0.01278597, 0.52726214, 0.48609792,\n",
       "        0.76908666, 0.57346063, 0.39392724, 0.3484375 , 0.33461628],\n",
       "       [0.08321364, 0.0107674 , 0.00188197, 0.07760789, 0.07154892,\n",
       "        0.11320213, 0.08440786, 0.05798228, 0.05128663, 0.04925228],\n",
       "       [0.54041629, 0.06992695, 0.01222213, 0.50401075, 0.46466181,\n",
       "        0.73517121, 0.54817197, 0.3765557 , 0.33307199, 0.31986026],\n",
       "       [0.2599218 , 0.03363248, 0.00587843, 0.24241198, 0.22348648,\n",
       "        0.35359227, 0.26365202, 0.18111044, 0.16019626, 0.15384187]])"
      ]
     },
     "execution_count": 119,
     "metadata": {},
     "output_type": "execute_result"
    }
   ],
   "source": [
    "A = np.random.uniform(0,1,10)\n",
    "B = np.random.uniform(0,1,10)\n",
    "\n",
    "np.einsum('i->', A)       # np.sum(A)\n",
    "np.einsum('i,i->i', A, B) # A * B\n",
    "np.einsum('i,i', A, B)    # np.inner(A, B)\n",
    "np.einsum('i,j->ij', A, B)    # np.outer(A, B)"
   ]
  },
  {
   "cell_type": "markdown",
   "metadata": {},
   "source": [
    "#### 98. Considering a path described by two vectors (X,Y), how to sample it using equidistant samples (★★★)?"
   ]
  },
  {
   "cell_type": "code",
   "execution_count": 120,
   "metadata": {
    "tags": []
   },
   "outputs": [],
   "source": [
    "phi = np.arange(0, 10*np.pi, 0.1)\n",
    "a = 1\n",
    "x = a*phi*np.cos(phi)\n",
    "y = a*phi*np.sin(phi)\n",
    "\n",
    "dr = (np.diff(x)**2 + np.diff(y)**2)**.5 \n",
    "r = np.zeros_like(x)\n",
    "r[1:] = np.cumsum(dr)               \n",
    "r_int = np.linspace(0, r.max(), 200)\n",
    "x_int = np.interp(r_int, r, x)      \n",
    "y_int = np.interp(r_int, r, y)"
   ]
  },
  {
   "cell_type": "markdown",
   "metadata": {},
   "source": [
    "#### 99. Given an integer n and a 2D array X, select from X the rows which can be interpreted as draws from a multinomial distribution with n degrees, i.e., the rows which only contain integers and which sum to n. (★★★)"
   ]
  },
  {
   "cell_type": "code",
   "execution_count": 121,
   "metadata": {
    "tags": []
   },
   "outputs": [
    {
     "name": "stdout",
     "output_type": "stream",
     "text": [
      "[[2. 0. 1. 1.]]\n"
     ]
    }
   ],
   "source": [
    "X = np.asarray([[4.0, 2.0, 3.0, 8.0],\n",
    "                [2.0, 0.0, 1.0, 1.0],\n",
    "                [1.5, 2.5, 1.0, 0.0]])\n",
    "n = 4\n",
    "M = np.logical_and.reduce(np.mod(X, 1) == 0, axis=-1)\n",
    "M &= (X.sum(axis=-1) == n)\n",
    "print(X[M])"
   ]
  },
  {
   "cell_type": "markdown",
   "metadata": {},
   "source": [
    "#### 100. Compute bootstrapped 95% confidence intervals for the mean of a 1D array X (i.e., resample the elements of an array with replacement N times, compute the mean of each sample, and then compute percentiles over the means). (★★★)"
   ]
  },
  {
   "cell_type": "code",
   "execution_count": 122,
   "metadata": {
    "tags": []
   },
   "outputs": [
    {
     "name": "stdout",
     "output_type": "stream",
     "text": [
      "[-0.38836411  0.05114372]\n"
     ]
    }
   ],
   "source": [
    "X = np.random.randn(100) # random 1D array\n",
    "N = 1000 # number of bootstrap samples\n",
    "idx = np.random.randint(0, X.size, (N, X.size))\n",
    "means = X[idx].mean(axis=1)\n",
    "confint = np.percentile(means, [2.5, 97.5])\n",
    "print(confint)"
   ]
  }
 ],
 "metadata": {
  "kernelspec": {
   "display_name": "Python 3",
   "language": "python",
   "name": "python3"
  },
  "language_info": {
   "codemirror_mode": {
    "name": "ipython",
    "version": 3
   },
   "file_extension": ".py",
   "mimetype": "text/x-python",
   "name": "python",
   "nbconvert_exporter": "python",
   "pygments_lexer": "ipython3",
   "version": "3.7.7"
  }
 },
 "nbformat": 4,
 "nbformat_minor": 5
}
